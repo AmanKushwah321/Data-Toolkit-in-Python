{
  "nbformat": 4,
  "nbformat_minor": 0,
  "metadata": {
    "colab": {
      "provenance": []
    },
    "kernelspec": {
      "name": "python3",
      "display_name": "Python 3"
    },
    "language_info": {
      "name": "python"
    }
  },
  "cells": [
    {
      "cell_type": "markdown",
      "source": [
        "#***Assignment=6 Data toolkit***"
      ],
      "metadata": {
        "id": "1mSvMylnAMZV"
      }
    },
    {
      "cell_type": "markdown",
      "source": [
        "# 1. What is NumPy, and why is it widely used in Python?\n",
        "\n",
        "Ans:-\n",
        "- NumPy is a Python library for numerical computations, providing support for large, multi-dimensional arrays and matrices, along with mathematical functions. It’s widely used for its efficiency, speed, and ease of use in data analysis, machine learning, and scientific computing.\n",
        "\n",
        "Example:-"
      ],
      "metadata": {
        "id": "xFtMaTU_AKey"
      }
    },
    {
      "cell_type": "code",
      "source": [
        "import numpy as np\n",
        "np1 = np.array([1,2,3])\n",
        "print(np1)"
      ],
      "metadata": {
        "colab": {
          "base_uri": "https://localhost:8080/"
        },
        "id": "6_DgWqGlRP8W",
        "outputId": "561fb46a-18bc-4a39-be13-a53e1b1543da"
      },
      "execution_count": null,
      "outputs": [
        {
          "output_type": "stream",
          "name": "stdout",
          "text": [
            "[1 2 3]\n"
          ]
        }
      ]
    },
    {
      "cell_type": "markdown",
      "source": [
        "# 2. How does broadcasting work in NumPy?\n",
        "\n",
        "Ans:-\n",
        "- Broadcasting allows NumPy to perform operations on arrays of different shapes by automatically expanding the smaller array to match the larger one, avoiding explicit loops. It works if the shapes are compatible.\n",
        "Example:- aligning dimensions from the end."
      ],
      "metadata": {
        "id": "zysGWzImDOFR"
      }
    },
    {
      "cell_type": "code",
      "source": [
        "import numpy as np\n",
        "arr1 = np.array([1, 2]) + np.array([3, 4])\n",
        "print(arr1)"
      ],
      "metadata": {
        "colab": {
          "base_uri": "https://localhost:8080/"
        },
        "id": "Bi4klFmgTYZD",
        "outputId": "9d7bff7a-e54a-460c-a073-68d828a4701f"
      },
      "execution_count": null,
      "outputs": [
        {
          "output_type": "stream",
          "name": "stdout",
          "text": [
            "[4 6]\n"
          ]
        }
      ]
    },
    {
      "cell_type": "code",
      "source": [
        "import numpy as np\n",
        "arr2 = np.array([1,2,3]) + np.array([4,5,6])\n",
        "print(arr2)"
      ],
      "metadata": {
        "colab": {
          "base_uri": "https://localhost:8080/"
        },
        "id": "iLuCADOgVepZ",
        "outputId": "b91e02be-5a88-4029-c8fc-0a9d008d29e7"
      },
      "execution_count": null,
      "outputs": [
        {
          "output_type": "stream",
          "name": "stdout",
          "text": [
            "[5 7 9]\n"
          ]
        }
      ]
    },
    {
      "cell_type": "code",
      "source": [
        "import numpy as np\n",
        "arr3 = np.array([1,2,3]) + np.array([[4],[5],[6]])\n",
        "print(arr3)"
      ],
      "metadata": {
        "colab": {
          "base_uri": "https://localhost:8080/"
        },
        "id": "dVa-rE-xVumZ",
        "outputId": "1145778f-1885-46ba-a088-d772e0614920"
      },
      "execution_count": null,
      "outputs": [
        {
          "output_type": "stream",
          "name": "stdout",
          "text": [
            "[[5 6 7]\n",
            " [6 7 8]\n",
            " [7 8 9]]\n"
          ]
        }
      ]
    },
    {
      "cell_type": "code",
      "source": [
        "import numpy as np\n",
        "arr4 = np.array([[9],[5],[6]]) + np.array([1,2,3])\n",
        "print(arr4)"
      ],
      "metadata": {
        "colab": {
          "base_uri": "https://localhost:8080/"
        },
        "id": "do27E_3-V64C",
        "outputId": "11fbff16-3a1a-4d94-a36a-4af5c7308956"
      },
      "execution_count": null,
      "outputs": [
        {
          "output_type": "stream",
          "name": "stdout",
          "text": [
            "[[10 11 12]\n",
            " [ 6  7  8]\n",
            " [ 7  8  9]]\n"
          ]
        }
      ]
    },
    {
      "cell_type": "markdown",
      "source": [
        "# 3. What is a Pandas DataFrame?\n",
        "\n",
        "Ans:-\n",
        "- A Pandas DataFrame is a 2D, labeled data structure with columns of potentially different types, similar to a table in a database or spreadsheet. It is used for data manipulation and analysis.\n",
        "\n",
        "Example:-"
      ],
      "metadata": {
        "id": "ex7lHF88DSBR"
      }
    },
    {
      "cell_type": "code",
      "source": [
        "import pandas as pd;\n",
        "df = pd.DataFrame({'Name': ['Sita', 'Ram', 'Lakshman', 'Maruti', 'Kesari' ], 'Score': [97, 108, 101, 107, 70]})\n",
        "print(df)"
      ],
      "metadata": {
        "colab": {
          "base_uri": "https://localhost:8080/"
        },
        "id": "jfpq_CqeWxwF",
        "outputId": "63727fc0-0c6f-43d3-d203-4696e2befac0"
      },
      "execution_count": null,
      "outputs": [
        {
          "output_type": "stream",
          "name": "stdout",
          "text": [
            "       Name  Score\n",
            "0      Sita     97\n",
            "1       Ram    108\n",
            "2  Lakshman    101\n",
            "3    Maruti    107\n",
            "4    Kesari     70\n"
          ]
        }
      ]
    },
    {
      "cell_type": "markdown",
      "source": [
        "# 4. Explain the use of the groupby() method in Pandas?\n",
        "Ans:-\n",
        "- The groupby() method in Pandas groups data based on one or more columns, allowing aggregation (e.g., sum, mean) on grouped data for analysis.\n",
        "\n",
        "Example:- \"df.groupby('Score').sum()\" groups by 'Score' and sums other columns."
      ],
      "metadata": {
        "id": "9lmFtmn9DRwF"
      }
    },
    {
      "cell_type": "code",
      "source": [
        "df.groupby('Score').sum()"
      ],
      "metadata": {
        "colab": {
          "base_uri": "https://localhost:8080/",
          "height": 414
        },
        "id": "TsyytKRYd_5O",
        "outputId": "acd16cb9-1616-4bbc-dc10-de87b2931758"
      },
      "execution_count": null,
      "outputs": [
        {
          "output_type": "execute_result",
          "data": {
            "text/plain": [
              "           Name\n",
              "Score          \n",
              "70       Kesari\n",
              "97         Sita\n",
              "101    Lakshman\n",
              "107      Maruti\n",
              "108         Ram"
            ],
            "text/html": [
              "\n",
              "  <div id=\"df-5e9b07c0-17c4-43f3-b67d-e5e68ede36a7\" class=\"colab-df-container\">\n",
              "    <div>\n",
              "<style scoped>\n",
              "    .dataframe tbody tr th:only-of-type {\n",
              "        vertical-align: middle;\n",
              "    }\n",
              "\n",
              "    .dataframe tbody tr th {\n",
              "        vertical-align: top;\n",
              "    }\n",
              "\n",
              "    .dataframe thead th {\n",
              "        text-align: right;\n",
              "    }\n",
              "</style>\n",
              "<table border=\"1\" class=\"dataframe\">\n",
              "  <thead>\n",
              "    <tr style=\"text-align: right;\">\n",
              "      <th></th>\n",
              "      <th>Name</th>\n",
              "    </tr>\n",
              "    <tr>\n",
              "      <th>Score</th>\n",
              "      <th></th>\n",
              "    </tr>\n",
              "  </thead>\n",
              "  <tbody>\n",
              "    <tr>\n",
              "      <th>70</th>\n",
              "      <td>Kesari</td>\n",
              "    </tr>\n",
              "    <tr>\n",
              "      <th>97</th>\n",
              "      <td>Sita</td>\n",
              "    </tr>\n",
              "    <tr>\n",
              "      <th>101</th>\n",
              "      <td>Lakshman</td>\n",
              "    </tr>\n",
              "    <tr>\n",
              "      <th>107</th>\n",
              "      <td>Maruti</td>\n",
              "    </tr>\n",
              "    <tr>\n",
              "      <th>108</th>\n",
              "      <td>Ram</td>\n",
              "    </tr>\n",
              "  </tbody>\n",
              "</table>\n",
              "</div>\n",
              "    <div class=\"colab-df-buttons\">\n",
              "\n",
              "  <div class=\"colab-df-container\">\n",
              "    <button class=\"colab-df-convert\" onclick=\"convertToInteractive('df-5e9b07c0-17c4-43f3-b67d-e5e68ede36a7')\"\n",
              "            title=\"Convert this dataframe to an interactive table.\"\n",
              "            style=\"display:none;\">\n",
              "\n",
              "  <svg xmlns=\"http://www.w3.org/2000/svg\" height=\"24px\" viewBox=\"0 -960 960 960\">\n",
              "    <path d=\"M120-120v-720h720v720H120Zm60-500h600v-160H180v160Zm220 220h160v-160H400v160Zm0 220h160v-160H400v160ZM180-400h160v-160H180v160Zm440 0h160v-160H620v160ZM180-180h160v-160H180v160Zm440 0h160v-160H620v160Z\"/>\n",
              "  </svg>\n",
              "    </button>\n",
              "\n",
              "  <style>\n",
              "    .colab-df-container {\n",
              "      display:flex;\n",
              "      gap: 12px;\n",
              "    }\n",
              "\n",
              "    .colab-df-convert {\n",
              "      background-color: #E8F0FE;\n",
              "      border: none;\n",
              "      border-radius: 50%;\n",
              "      cursor: pointer;\n",
              "      display: none;\n",
              "      fill: #1967D2;\n",
              "      height: 32px;\n",
              "      padding: 0 0 0 0;\n",
              "      width: 32px;\n",
              "    }\n",
              "\n",
              "    .colab-df-convert:hover {\n",
              "      background-color: #E2EBFA;\n",
              "      box-shadow: 0px 1px 2px rgba(60, 64, 67, 0.3), 0px 1px 3px 1px rgba(60, 64, 67, 0.15);\n",
              "      fill: #174EA6;\n",
              "    }\n",
              "\n",
              "    .colab-df-buttons div {\n",
              "      margin-bottom: 4px;\n",
              "    }\n",
              "\n",
              "    [theme=dark] .colab-df-convert {\n",
              "      background-color: #3B4455;\n",
              "      fill: #D2E3FC;\n",
              "    }\n",
              "\n",
              "    [theme=dark] .colab-df-convert:hover {\n",
              "      background-color: #434B5C;\n",
              "      box-shadow: 0px 1px 3px 1px rgba(0, 0, 0, 0.15);\n",
              "      filter: drop-shadow(0px 1px 2px rgba(0, 0, 0, 0.3));\n",
              "      fill: #FFFFFF;\n",
              "    }\n",
              "  </style>\n",
              "\n",
              "    <script>\n",
              "      const buttonEl =\n",
              "        document.querySelector('#df-5e9b07c0-17c4-43f3-b67d-e5e68ede36a7 button.colab-df-convert');\n",
              "      buttonEl.style.display =\n",
              "        google.colab.kernel.accessAllowed ? 'block' : 'none';\n",
              "\n",
              "      async function convertToInteractive(key) {\n",
              "        const element = document.querySelector('#df-5e9b07c0-17c4-43f3-b67d-e5e68ede36a7');\n",
              "        const dataTable =\n",
              "          await google.colab.kernel.invokeFunction('convertToInteractive',\n",
              "                                                    [key], {});\n",
              "        if (!dataTable) return;\n",
              "\n",
              "        const docLinkHtml = 'Like what you see? Visit the ' +\n",
              "          '<a target=\"_blank\" href=https://colab.research.google.com/notebooks/data_table.ipynb>data table notebook</a>'\n",
              "          + ' to learn more about interactive tables.';\n",
              "        element.innerHTML = '';\n",
              "        dataTable['output_type'] = 'display_data';\n",
              "        await google.colab.output.renderOutput(dataTable, element);\n",
              "        const docLink = document.createElement('div');\n",
              "        docLink.innerHTML = docLinkHtml;\n",
              "        element.appendChild(docLink);\n",
              "      }\n",
              "    </script>\n",
              "  </div>\n",
              "\n",
              "\n",
              "    <div id=\"df-38543ff2-fc64-4766-9707-2b63d901ed2d\">\n",
              "      <button class=\"colab-df-quickchart\" onclick=\"quickchart('df-38543ff2-fc64-4766-9707-2b63d901ed2d')\"\n",
              "                title=\"Suggest charts\"\n",
              "                style=\"display:none;\">\n",
              "\n",
              "<svg xmlns=\"http://www.w3.org/2000/svg\" height=\"24px\"viewBox=\"0 0 24 24\"\n",
              "     width=\"24px\">\n",
              "    <g>\n",
              "        <path d=\"M19 3H5c-1.1 0-2 .9-2 2v14c0 1.1.9 2 2 2h14c1.1 0 2-.9 2-2V5c0-1.1-.9-2-2-2zM9 17H7v-7h2v7zm4 0h-2V7h2v10zm4 0h-2v-4h2v4z\"/>\n",
              "    </g>\n",
              "</svg>\n",
              "      </button>\n",
              "\n",
              "<style>\n",
              "  .colab-df-quickchart {\n",
              "      --bg-color: #E8F0FE;\n",
              "      --fill-color: #1967D2;\n",
              "      --hover-bg-color: #E2EBFA;\n",
              "      --hover-fill-color: #174EA6;\n",
              "      --disabled-fill-color: #AAA;\n",
              "      --disabled-bg-color: #DDD;\n",
              "  }\n",
              "\n",
              "  [theme=dark] .colab-df-quickchart {\n",
              "      --bg-color: #3B4455;\n",
              "      --fill-color: #D2E3FC;\n",
              "      --hover-bg-color: #434B5C;\n",
              "      --hover-fill-color: #FFFFFF;\n",
              "      --disabled-bg-color: #3B4455;\n",
              "      --disabled-fill-color: #666;\n",
              "  }\n",
              "\n",
              "  .colab-df-quickchart {\n",
              "    background-color: var(--bg-color);\n",
              "    border: none;\n",
              "    border-radius: 50%;\n",
              "    cursor: pointer;\n",
              "    display: none;\n",
              "    fill: var(--fill-color);\n",
              "    height: 32px;\n",
              "    padding: 0;\n",
              "    width: 32px;\n",
              "  }\n",
              "\n",
              "  .colab-df-quickchart:hover {\n",
              "    background-color: var(--hover-bg-color);\n",
              "    box-shadow: 0 1px 2px rgba(60, 64, 67, 0.3), 0 1px 3px 1px rgba(60, 64, 67, 0.15);\n",
              "    fill: var(--button-hover-fill-color);\n",
              "  }\n",
              "\n",
              "  .colab-df-quickchart-complete:disabled,\n",
              "  .colab-df-quickchart-complete:disabled:hover {\n",
              "    background-color: var(--disabled-bg-color);\n",
              "    fill: var(--disabled-fill-color);\n",
              "    box-shadow: none;\n",
              "  }\n",
              "\n",
              "  .colab-df-spinner {\n",
              "    border: 2px solid var(--fill-color);\n",
              "    border-color: transparent;\n",
              "    border-bottom-color: var(--fill-color);\n",
              "    animation:\n",
              "      spin 1s steps(1) infinite;\n",
              "  }\n",
              "\n",
              "  @keyframes spin {\n",
              "    0% {\n",
              "      border-color: transparent;\n",
              "      border-bottom-color: var(--fill-color);\n",
              "      border-left-color: var(--fill-color);\n",
              "    }\n",
              "    20% {\n",
              "      border-color: transparent;\n",
              "      border-left-color: var(--fill-color);\n",
              "      border-top-color: var(--fill-color);\n",
              "    }\n",
              "    30% {\n",
              "      border-color: transparent;\n",
              "      border-left-color: var(--fill-color);\n",
              "      border-top-color: var(--fill-color);\n",
              "      border-right-color: var(--fill-color);\n",
              "    }\n",
              "    40% {\n",
              "      border-color: transparent;\n",
              "      border-right-color: var(--fill-color);\n",
              "      border-top-color: var(--fill-color);\n",
              "    }\n",
              "    60% {\n",
              "      border-color: transparent;\n",
              "      border-right-color: var(--fill-color);\n",
              "    }\n",
              "    80% {\n",
              "      border-color: transparent;\n",
              "      border-right-color: var(--fill-color);\n",
              "      border-bottom-color: var(--fill-color);\n",
              "    }\n",
              "    90% {\n",
              "      border-color: transparent;\n",
              "      border-bottom-color: var(--fill-color);\n",
              "    }\n",
              "  }\n",
              "</style>\n",
              "\n",
              "      <script>\n",
              "        async function quickchart(key) {\n",
              "          const quickchartButtonEl =\n",
              "            document.querySelector('#' + key + ' button');\n",
              "          quickchartButtonEl.disabled = true;  // To prevent multiple clicks.\n",
              "          quickchartButtonEl.classList.add('colab-df-spinner');\n",
              "          try {\n",
              "            const charts = await google.colab.kernel.invokeFunction(\n",
              "                'suggestCharts', [key], {});\n",
              "          } catch (error) {\n",
              "            console.error('Error during call to suggestCharts:', error);\n",
              "          }\n",
              "          quickchartButtonEl.classList.remove('colab-df-spinner');\n",
              "          quickchartButtonEl.classList.add('colab-df-quickchart-complete');\n",
              "        }\n",
              "        (() => {\n",
              "          let quickchartButtonEl =\n",
              "            document.querySelector('#df-38543ff2-fc64-4766-9707-2b63d901ed2d button');\n",
              "          quickchartButtonEl.style.display =\n",
              "            google.colab.kernel.accessAllowed ? 'block' : 'none';\n",
              "        })();\n",
              "      </script>\n",
              "    </div>\n",
              "\n",
              "    </div>\n",
              "  </div>\n"
            ],
            "application/vnd.google.colaboratory.intrinsic+json": {
              "type": "dataframe",
              "summary": "{\n  \"name\": \"df\",\n  \"rows\": 5,\n  \"fields\": [\n    {\n      \"column\": \"Score\",\n      \"properties\": {\n        \"dtype\": \"number\",\n        \"std\": 15,\n        \"min\": 70,\n        \"max\": 108,\n        \"num_unique_values\": 5,\n        \"samples\": [\n          97,\n          108,\n          101\n        ],\n        \"semantic_type\": \"\",\n        \"description\": \"\"\n      }\n    },\n    {\n      \"column\": \"Name\",\n      \"properties\": {\n        \"dtype\": \"string\",\n        \"num_unique_values\": 5,\n        \"samples\": [\n          \"Sita\",\n          \"Ram\",\n          \"Lakshman\"\n        ],\n        \"semantic_type\": \"\",\n        \"description\": \"\"\n      }\n    }\n  ]\n}"
            }
          },
          "metadata": {},
          "execution_count": 164
        },
        {
          "output_type": "display_data",
          "data": {
            "text/plain": [
              "<google.colab._quickchart_helpers.SectionTitle at 0x7fd902908490>"
            ],
            "text/html": [
              "<h4 class=\"colab-quickchart-section-title\">Categorical distributions</h4>\n",
              "<style>\n",
              "  .colab-quickchart-section-title {\n",
              "      clear: both;\n",
              "  }\n",
              "</style>"
            ]
          },
          "metadata": {}
        },
        {
          "output_type": "display_data",
          "data": {
            "text/plain": [
              "from matplotlib import pyplot as plt\n",
              "import seaborn as sns\n",
              "_df_5.groupby('Name').size().plot(kind='barh', color=sns.palettes.mpl_palette('Dark2'))\n",
              "plt.gca().spines[['top', 'right',]].set_visible(False)"
            ],
            "text/html": [
              "      <div class=\"colab-quickchart-chart-with-code\" id=\"chart-cc2cc441-a6a5-40c7-84d6-cddc5624b267\">\n",
              "        <img style=\"width: 180px;\" src=\"data:image/png;base64,iVBORw0KGgoAAAANSUhEUgAAAlIAAAGZCAYAAABCGN+ZAAAAOnRFWHRTb2Z0d2FyZQBNYXRwbG90\n",
              "bGliIHZlcnNpb24zLjEwLjAsIGh0dHBzOi8vbWF0cGxvdGxpYi5vcmcvlHJYcgAAAAlwSFlzAAAP\n",
              "YQAAD2EBqD+naQAAHlhJREFUeJzt3XmQVfWd//9XQ2vLxCDJuERR1kjYlEVkUTTYccSJGBNFBaNx\n",
              "CRDN/GKQmJRQJNHISCrfaGKZ0dGJhjFUpqyJiVGjvxoXKi4jGg0YSATRABqXxIIe0AmrfX5/+LNr\n",
              "+LpM80k3F5rHo+pWec89fe/7fIryPuvc033rqqqqAgDAdutU6wEAAHZVQgoAoJCQAgAoJKQAAAoJ\n",
              "KQCAQkIKAKCQkAIAKCSkAAAKCSkAgEJCqp1de+21tR4BAGgnQqqdrV69utYjAADtREgBABQSUgAA\n",
              "hYQUAEAhIQUAUEhIAQAUElIAAIWEFABAISEFAFBISAEAFBJSAACFhBQAQCEhBQBQSEgBABQSUgAA\n",
              "hYQUAEAhIQUAUKiuqqqq1kN0ZId/smvGnPOhWo8BAB3OjZNX13oEZ6QAAEoJKQCAQkIKAKCQkAIA\n",
              "KCSkAAAKCSkAgEJCCgCgkJACACgkpAAACgkpAIBCQgoAoJCQAgAoJKQAAAoJKQCAQrtVSP3sZz/L\n",
              "EUcckaFDh6Z///5pbGxMc3NzPvnJT2b58uVJknnz5mXZsmU1nhQA2BXU13qAHeWVV17JtGnT8tRT\n",
              "T6Vnz55Jkt/85jepq6vLPffc07LfvHnz0q1bt/Tv379WowIAu4jd5ozUn/70p3Tu3Dkf/vCHW7YN\n",
              "Hz48dXV16dWrVxYvXpwf/vCHefLJJ3PJJZdk6NChueeee7JkyZKMHTs2w4cPz8CBAzNnzpwaHgUA\n",
              "sDPZbc5IHX744Rk7dmx69uyZj3/84znqqKNy1llnpXv37i37TJkyJfPnz8/06dPz6U9/Okny+uuv\n",
              "54EHHkhDQ0M2bNiQo446Kscff3xGjx79jtfYtGlTNm3atM225uaqXY8LAKid3eaMVKdOnXL77bfn\n",
              "P//zP3PiiSfm0UcfzaBBg/Lcc8+9789t2LAhU6ZMyWGHHZbRo0dn9erVWbx48bvuO3fu3Oyzzz7b\n",
              "3F57fnM7HA0AsDPYbULqbf37988XvvCF3HHHHRk9enTuvPPO991/1qxZ2XfffbNo0aI8/fTTGTdu\n",
              "XDZu3Piu+86cOTPr1q3b5rZf3z3b4zAAgJ3AbhNSL730Uh599NGW+01NTVm5cmX69u27zX5du3bN\n",
              "unXrttnv4IMPTn19fZYvX5777rvvPV+joaEhXbt23ebWqVNd2x8MALBT2G1CauvWrfnWt76Vfv36\n",
              "ZejQoTnmmGNy7rnn5pRTTtlmv2nTpuWqq65qudh89uzZ+dGPfpTDDz88l112WRobG2t0BADAzqau\n",
              "qipXQ7ejwz/ZNWPO+VCtxwCADufGyatrPcLuc0YKAKCtCSkAgEJCCgCgkJACACgkpAAACgkpAIBC\n",
              "QgoAoJCQAgAoJKQAAAoJKQCAQkIKAKCQkAIAKCSkAAAK1dd6gI7u+P5Tcs3ka2o9BgDQDpyRAgAo\n",
              "JKQAAAoJKQCAQkIKAKCQkAIAKCSkAAAKCSkAgEJCCgCgkJACACgkpAAACgkpAIBCQgoAoJCQAgAo\n",
              "JKQAAAoJKQCAQkIKAKCQkAIAKCSkAAAKCSkAgEJCCgCgkJACACgkpAAACgkpAIBCQgoAoJCQAgAo\n",
              "JKQAAAoJKQCAQkIKAKCQkAIAKCSkAAAKCSkAgEJCCgCgkJACACgkpAAACgkpAIBCQgoAoFB9rQfo\n",
              "6P77X5/Mq//v/6n1GADQ4Xzk91+t9QjOSAEAlBJSAACFhBQAQCEhBQBQSEgBABQSUgAAhYQUAEAh\n",
              "IQUAUEhIAQAUElIAAIWEFABAISEFAFBISAEAFBJSAACF6ms9QHvq1atXGhoa0qVLl2zYsCHnn39+\n",
              "LrvsslqPBQB0EB06pJLktttuy9ChQ/PSSy9l4MCBaWxszMiRI2s9FgDQAew2H+117949/fv3z+rV\n",
              "q/PAAw9kzJgxGTZsWAYNGpSbb765Zb/zzjsv06ZNy/HHH5/evXvnggsuyBNPPJFx48alT58+mTFj\n",
              "Rg2PAgDYmXT4M1JvW7ZsWdasWZNx48alvr4+jzzySDp37py1a9dm2LBhGT9+fA4++OAkyZIlS7Jg\n",
              "wYJ06tQpAwcOTFNTU+67775s3rw5ffr0yec///kMGjToHa+xadOmbNq0aZttb1bNO+T4AIAdr8Of\n",
              "kTrzzDMzYMCADBw4MF/60pey3377Zc2aNTn99NMzePDgNDY2Zs2aNVm6dGnLz5xyyinZa6+9suee\n",
              "e+awww7L+PHjs8cee+QDH/hABg4cmBUrVrzra82dOzf77LPPNrfFG17cUYcKAOxgHT6kbrvttjzz\n",
              "zDP5j//4j1x22WVZsmRJLrzwwowdOzZLlizJ4sWL069fv2zcuLHlZ/baa6+W/+7cufM77m/duvVd\n",
              "X2vmzJlZt27dNrehXQ5pv4MDAGpqt/lo7/jjj89FF12U2bNnp6mpKT179kxdXV0eeuihPP30023y\n",
              "Gg0NDWloaNhmW+e6Dt+qALDb2q3e5b/+9a/nkUceyRlnnJHLLrssQ4cOzS233JJRo0bVejQAYBdU\n",
              "V1VVVeshOrIv/O2xueKAk2s9BgB0OB/5/VdrPcLudUYKAKAtCSkAgEJCCgCgkJACACgkpAAACgkp\n",
              "AIBCQgoAoJCQAgAoJKQAAAoJKQCAQkIKAKCQkAIAKCSkAAAK1dd6gI7uA+eOyEeuqf23UwMAbc8Z\n",
              "KQCAQkIKAKCQkAIAKCSkAAAKCSkAgEJCCgCgkJACACgkpAAACgkpAIBCQgoAoJCQAgAoJKQAAAoJ\n",
              "KQCAQkIKAKCQkAIAKCSkAAAKCSkAgEJCCgCgkJACACgkpAAACgkpAIBCQgoAoJCQAgAoJKQAAAoJ\n",
              "KQCAQkIKAKCQkAIAKCSkAAAKCSkAgEJCCgCgkJACACgkpAAACgkpAIBCQgoAoJCQAgAoJKQAAArV\n",
              "VVVV1XqIjmzE8E+n8eNTaj0GAHQ43/nehFqP4IwUAEApIQUAUEhIAQAUElIAAIWKQuqpp57Kj3/8\n",
              "4yRJU1NTXnnllTYdCgBgV7DdIXX99dfnggsuyOWXX54kWbt2bc4666y2ngsAYKe33SF10003ZeHC\n",
              "henatWuSpG/fvnnttdfafDAAgJ3ddodUQ0NDunTpss22+vr6NhsIAGBXsd0htd9+++XZZ59NXV1d\n",
              "kmTevHnp0aNHmw8GALCz2+5TSd///vczefLkLFu2LIcccki6du2au+++uz1mAwDYqW13SH30ox/N\n",
              "448/nuXLl6eqqnzsYx9L586d22M2AICdWtHFTW+88Ua2bNmSrVu35umnn06SDB8+vE0HAwDY2W13\n",
              "SH3ve9/LN77xjey3334tZ6Lq6ury7LPPtvlwAAA7s+0Oqeuuuy7Lly/PQQcd1B7zAADsMrb7t/a6\n",
              "d+9e04jq1atX9t9//2zZsqVl24IFC1JXV5fp06e36WvNmzcvy5Yta7l/55135pJLLmnT1wAAdl3b\n",
              "fUZq1qxZufjiizNhwoTstddeLduPPfbYNh3s/fTo0SN33nlnTjvttCTJzTffnBEjRmzXczQ3NydJ\n",
              "OnV675acN29eunXrlv79+ydJPvWpT+VTn/pU4dQAQEez3SH12GOP5dZbb80jjzyyzTVSTzzxRJsP\n",
              "917OP//83HLLLTnttNOybt26LFy4MJMnT87rr7+eJUuW5KKLLspf/vKXbNy4MWeddVZmz56dJLn8\n",
              "8suzZMmSvPHGG3nxxRdz33335eijj84dd9yRoUOHJklGjBiR7373u3nuuefy5JNP5pJLLsnll1+e\n",
              "q666Kn/+859zxx135I477njXuTZt2pRNmzZts636/4MNAOh4tjukbr311qxatSrdunVrh3Fa5+ij\n",
              "j87111+fl19+OXfeeWdOP/30lqjr1atXHnjggTQ0NGTDhg056qijcvzxx2f06NFJ3grBRYsW5YAD\n",
              "Dnjf15gyZUrmz5+f6dOn59Of/nSSt85QvZ+5c+fmiiuu2GbbgR/5WNlBAgA7ve2+Rqpnz541jai3\n",
              "nXPOOZk3b15uueWWXHDBBS3bN2zYkClTpuSwww7L6NGjs3r16ixevLjl8U9+8pP/a0SVmjlzZtat\n",
              "W7fN7cAD+rXLawEAtbfdZ6SOPPLInHHGGZk4ceI210jt6GuHPve5z2X48OHp169fDj300Jbts2bN\n",
              "yr777ptFixalvr4+p556ajZu3Njy+N57773N89TX1+fNN99suf8/991eDQ0NaWho2GZb3ftcgwUA\n",
              "7Nq2O6SeeuqpJMkNN9zQsq2urm6Hh9RBBx2UuXPntlwI/rampqYMGDAg9fX1Wb58ee677773vRD+\n",
              "7b/UfsQRR+SJJ57I8uXLWx7r2rVr1q1b127HAADs2rY7pBYsWNAecxQ5//zz37Ft9uzZOeecc/Kv\n",
              "//qv6du3bxobG9/3OebMmZNzzz03N954Y8aMGZNBgwa1PDZt2rR85Stfyfe+971cddVVbT4/ALBr\n",
              "q6uqqtreH9qyZUtWrly5zcdghx9+eJsO1lGMGP7pNH58Sq3HAIAO5zvfm1DrEbb/jNTdd9+dqVOn\n",
              "pqmpKR/4wAfS1NSUnj17ZuXKle0xHwDATmu7r4T++te/noULF2bAgAFZs2ZNbr311kycOLE9ZgMA\n",
              "2Kltd0h16tQpPXv2zNatW5MkZ599dh588ME2HwwAYGe33R/t7bHHHkmSgw8+OD//+c/Tq1evNDU1\n",
              "tflgAAA7u+0OqS9/+ctpamrKnDlzMmnSpPzXf/1Xrr322vaYDQBgp9bqkHrooYeSJN27d8+SJUuS\n",
              "JD/84Q+TvPV3pAAAdjetDqmvfOUr79hWV1eXl19+Oa+88so2fx0cAGB30OqQ+vWvf73N/bVr12bO\n",
              "nDmZP3/+O76oFwBgd7Ddv7W3cePGzJ07NwMHDkySPPPMM5k9e3abDwYAsLNrdUg1NzfnpptuyqGH\n",
              "Hpply5bl8ccfzzXXXJO//du/bc/5AAB2Wq3+aG/w4MHZtGlTrrrqqgwZMiTr1q3Lb3/725bHfUUM\n",
              "ALC7aXVI/eUvf0ldXV2+8Y1vvOOxurq6/OEPf2jTwQAAdnatDqlVq1a14xgAALue7f6DnGyfY8f1\n",
              "yXeuqf23UwMAbW+7f2sPAIC3CCkAgEJCCgCgkJACACgkpAAACgkpAIBCQgoAoJCQAgAoJKQAAAoJ\n",
              "KQCAQkIKAKCQkAIAKCSkAAAKCSkAgEJCCgCgkJACACgkpAAACgkpAIBCQgoAoJCQAgAoJKQAAAoJ\n",
              "KQCAQkIKAKCQkAIAKCSkAAAKCSkAgEJCCgCgkJACACgkpAAACgkpAIBCQgoAoJCQAgAoJKQAAAoJ\n",
              "KQCAQkIKAKCQkAIAKFRXVVVV6yE6svMH1WXmkXoVANpav3lv1noEZ6QAAEoJKQCAQkIKAKCQkAIA\n",
              "KCSkAAAKCSkAgEJCCgCgkJACACgkpAAACgkpAIBCQgoAoJCQAgAoJKQAAAoJKQCAQu0aUr169cri\n",
              "xYvbbf/zzjsv3//+97d7LgCAtuCMFABAoR0eUtdcc02OPPLIDB06NEceeWQee+yxd93vuuuuy9FH\n",
              "H53XXnstCxcuzBFHHJGhQ4dm8ODBueGGG1r2e+aZZ/KJT3wi/fr1y6mnnprNmzcnSS6//PKcccYZ\n",
              "Ofnkk9OvX79MmDAhS5cuzfjx49OvX79Mnjw5zc3NSZKf/OQnGTVqVIYNG5YhQ4bkrrvuann+cePG\n",
              "5dJLL80xxxyTvn375sILL3zPY9u0aVPWr1+/ze3N5rZYNQBgZ1S/o1/wnHPOyYwZM5IkCxcuzHnn\n",
              "nZdly5a1PN7c3JwZM2Zk5cqVuf/++9OlS5dMmTIll156aSZPnpwkaWpqatl/8eLFWbBgQRoaGnLs\n",
              "scfm9ttvb9nvySefzFNPPZVu3bpl3LhxmTJlSu6777506dIlI0aMyL333puTTjop48ePz+TJk1NX\n",
              "V5dVq1Zl9OjRWb16dRoaGpIkzz//fBYsWJAtW7Zk4MCBeeyxxzJmzJh3HNvcuXNzxRVXbLNtyL5t\n",
              "u34AwM5jh4fUokWL8o//+I9Zs2ZN6uvrs3z58mzYsCFdunRJkkybNi3Dhg3L7bffnk6d3jphdtxx\n",
              "x+XKK6/MihUr0tjYmLFjx7Y832c+85n8zd/8TZJk5MiRef7551seO+GEE/KhD30oSTJ8+PA0NDTk\n",
              "gx/8YJJk2LBhWbFiRZJk5cqV+exnP5s//vGPqa+vz9q1a7Ny5cr0798/SXLmmWemvr4+9fX1GTp0\n",
              "aJ5//vl3DamZM2e2ROLb/p9R+7TJugEAO58d+tHe5s2bc+qpp+a73/1uli5dmoceeijJWx+Jve3j\n",
              "H/94Hn/88bz66qst26ZPn55f/vKXOfDAAzNr1qx88YtfbHlsr732avnvzp07Z+vWre/52HvtO2nS\n",
              "pEyZMiVLly7N4sWLs/fee2fjxo2teo3/qaGhIV27dt3m1tlVaADQYe3QM1IbN27M5s2b06NHjyRv\n",
              "XQf1fzvnnHMyZsyYNDY25t57703v3r2zfPnyfOxjH8vUqVNzyCGHZNasWW06V1NTU3r37p0kmT9/\n",
              "/jYfHQIAvJd2D6nx48dnjz32aLk/e/bsjBw5Mvvuu28mTZr0rj8zceLEdOnSJSeccELuuuuu/NM/\n",
              "/VMefPDB7LnnnuncuXOuvvrqNp3x2muvzcSJE9OtW7c0Nja2hB4AwPupq6qqqvUQHdn5g+oy80if\n",
              "7wFAW+s3781aj+DvSAEAlBJSAACFhBQAQCEhBQBQSEgBABQSUgAAhYQUAEAhIQUAUEhIAQAUElIA\n",
              "AIWEFABAISEFAFBISAEAFKqv9QAd3YfGX5J+11xT6zEAgHbgjBQAQCEhBQBQSEgBABQSUgAAhYQU\n",
              "AEAhIQUAUEhIAQAUElIAAIWEFABAISEFAFBISAEAFBJSAACFhBQAQCEhBQBQSEgBABQSUgAAhYQU\n",
              "AEAhIQUAUEhIAQAUElIAAIWEFABAISEFAFBISAEAFBJSAACFhBQAQCEhBQBQSEgBABQSUgAAhYQU\n",
              "AEAhIQUAUEhIAQAUElIAAIWEFABAISEFAFBISAEAFBJSAACF6qqqqmo9REe29/gj023SJ2o9BgB0\n",
              "OH88/9u1HsEZKQCAUkIKAKCQkAIAKCSkAAAKCSkAgEJCCgCgkJACACgkpAAACgkpAIBCQgoAoJCQ\n",
              "AgAoJKQAAAoJKQCAQkIKAKDQLhtSvXr1yuLFi5MkGzduzCmnnJLTTz89mzdvbrfXfPnll3PMMce0\n",
              "2/MDALuWXTak3vb666/n7//+73PAAQfktttuy5577tkur7N169YcdNBBefjhh9vl+QGAXc8uHVJr\n",
              "1qxJY2NjRo0alZtuuimdOnXKj3/844waNSrDhw/Psccem6effjpJsnDhwhxxxBEZOnRoBg8enBtu\n",
              "uCFJ8pOf/CSjRo3KsGHDMmTIkNx1110tzz9u3LhcfPHFGTNmTE444YSsWrUq3bp1e895Nm3alPXr\n",
              "129zy5tVu64BAFA79bUe4K9x5plnZurUqZk7d26S5NFHH82//du/5aGHHkpDQ0MefvjhnHXWWfnd\n",
              "736XuXPn5tJLL83kyZOTJE1NTUmS8ePHZ/Lkyamrq8uqVasyevTorF69Og0NDUmSZ599Ng899FD2\n",
              "2GOPrFq16n3nmTt3bq644opttu3R56A2PmoAYGexS4fUSSedlJ/+9Kf54he/mEMOOSS/+MUv8vTT\n",
              "T2fUqFEt+6xduzYbNmzIcccdlyuvvDIrVqxIY2Njxo4dmyRZuXJlPvvZz+aPf/xj6uvrs3bt2qxc\n",
              "uTL9+/dPkpx99tnZY489WjXPzJkzM2PGjG22HXRqYxsdLQCws9mlQ+qSSy7JkCFDMm7cuCxYsCBV\n",
              "VeXcc8/NVVdd9Y59p0+fnlNOOSX3339/Zs2alcGDB+f666/PpEmT8u1vfzsTJ05Mknz4wx/Oxo0b\n",
              "W35u7733bvU8DQ0NLWeyWnSuKzs4AGCnt0tfI5UkM2bMyJe+9KWMGzcuEyZMyPz58/PCCy8kSZqb\n",
              "m/Pkk08mSZYvX57evXtn6tSpmTVrVhYuXJjkrY/4evfunSSZP39+y0d+AAD/m136jNTbpk+fnk6d\n",
              "OuXcc8/NRRddlM985jPZunVrNm/enJNOOikjRozID37wgzz44IPZc88907lz51x99dVJkmuvvTYT\n",
              "J05Mt27d0tjYmB49etT4aACAXUVdVVV+rawd7T3+yHSb9IlajwEAHc4fz/92rUfY9T/aAwCoFSEF\n",
              "AFBISAEAFBJSAACFhBQAQCEhBQBQSEgBABQSUgAAhYQUAEAhIQUAUEhIAQAUElIAAIWEFABAofpa\n",
              "D9DRTRt0TK7ZCb6dGgBoe85IAQAUElIAAIWEFABAISEFAFBISAEAFBJSAACFhBQAQCEhBQBQSEgB\n",
              "ABQSUgAAhYQUAEAhIQUAUEhIAQAUElIAAIWEFABAISEFAFBISAEAFKqv9QAd2aZNm3LvvffmzTff\n",
              "TOfOnWs9zm7lzTffzBNPPJGRI0da+x3IuteOta8N61477b32PXv2zJe//OX/db+6qqqqNn91kiTr\n",
              "16/PPvvsk3Xr1qVr1661Hme3Yu1rw7rXjrWvDeteOzvL2vtoDwCgkJACACgkpAAACgmpdtTQ0JBv\n",
              "fvObaWhoqPUoux1rXxvWvXasfW1Y99rZWdbexeYAAIWckQIAKCSkAAAKCSkAgEJCqg2sWLEiRx11\n",
              "VPr165cjjzwyv/vd7951v5tvvjmHHnpo+vbtm6lTp2bLli07eNKOpzVr/+CDD2bkyJEZOHBgBg0a\n",
              "lK997Wtpbm6uwbQdR2v/zSdJVVVpbGxMt27ddtyAHVhr137JkiUZN25cBgwYkAEDBuRnP/vZDp60\n",
              "Y2nNujc3N2fGjBkZOHBgDj/88Bx33HF57rnnajBtx3HxxRenV69eqaury+LFi99zv5q+v1b81Y47\n",
              "7rjqRz/6UVVVVfXv//7v1YgRI96xzx/+8IfqwAMPrF555ZWqubm5Ovnkk6sf/OAHO3jSjqc1a/+b\n",
              "3/ymev7556uqqqoNGzZURx99dMvPUKY16/62q6++upoyZUq1zz777JjhOrjWrP1///d/V717964e\n",
              "fvjhqqqqauvWrdWf//znHTlmh9Oadf/5z39ejRw5stq8eXNVVVV15ZVXVqeffvqOHLPD+dWvflW9\n",
              "+OKLVc+ePatFixa96z61fn8VUn+lP/3pT9UHP/jBasuWLVVVVVVzc3N1wAEHVCtWrNhmv+985zvV\n",
              "F77whZb7v/zlL6ujjz56h87a0bR27f9v//AP/1B985vf3AETdkzbs+5Lly6tjjnmmOq5554TUm2g\n",
              "tWv/L//yL9XkyZNrMWKH1Np1v+OOO6ohQ4ZU69evr5qbm6uvfvWr1SWXXFKLkTuc9wupWr+/+mjv\n",
              "r/Tiiy/mwAMPTH39W9//XFdXlx49euSFF17YZr8XXnghPXv2bLnfq1evd+zD9mnt2v9Pr776an76\n",
              "059mwoQJO2rMDqe1675ly5ZMnTo1N954oy9zbSOtXfvf//73aWhoyIQJEzJ06NB87nOfy2uvvVaL\n",
              "kTuE1q77ySefnHHjxuUjH/lIDjzwwDzwwAP51re+VYuRdyu1fn8VUuw21q9fn5NPPjlf+9rXMmLE\n",
              "iFqP0+FdccUVOfXUUzNgwIBaj7Lb2bp1a+6///7ceOONWbRoUbp3756LLrqo1mN1eE8++WSWLl2a\n",
              "l156KS+//HI+8YlP5MILL6z1WLQzIfVXOuSQQ/LKK69k69atSd66sPaFF15Ijx49ttmvR48eWb16\n",
              "dcv9VatWvWMftk9r1z5JXn/99Zx44ok55ZRTMmPGjB09aofS2nX/1a9+leuuuy69evXK2LFjs379\n",
              "+vTq1cuZkb/C9vz/5rjjjkv37t1TV1eXs88+OwsXLqzFyB1Ca9f91ltvbfnFik6dOuXcc8/NggUL\n",
              "ajHybqXW769C6q+0//77Z/jw4Zk/f36S5Pbbb8/BBx+cj370o9vsd9ppp+XOO+/Mq6++mqqq8s//\n",
              "/M+ZNGlSLUbuMFq79m+88UZOPPHEnHjiiZk9e3YtRu1QWrvuDz/8cFavXp1Vq1blkUceSdeuXbNq\n",
              "1arst99+tRi7Q2jt2p9xxhn59a9/nfXr1ydJ7rnnngwZMmSHz9tRtHbd+/TpkwcffDCbN29Oktx9\n",
              "990ZPHjwDp93d1Pz99cddjVWB7Zs2bJq9OjR1aGHHlodccQR1W9/+9uqqqrq85//fPWLX/yiZb+b\n",
              "brqp6tOnT9WnT5/qggsuaPnNDsq1Zu3nzJlT1dfXV0OGDGm5zZkzp5Zj7/Ja+2/+bStXrnSxeRtp\n",
              "7drfeuut1aBBg6rDDjusOvHEE6sXXnihViN3CK1Z940bN1ZTpkyp+vfvXx122GHV3/3d37X8xjBl\n",
              "pk2bVnXv3r3q3Llztf/++1d9+/atqmrnen/1XXsAAIV8tAcAUEhIAQAUElIAAIWEFABAISEFAFBI\n",
              "SAEAFBJSAACFhBQAQCEhBQBQSEgBABQSUgAAhf4/AOvhe92IVr4AAAAASUVORK5CYII=\n",
              "\">\n",
              "      </div>\n",
              "      <script type=\"text/javascript\">\n",
              "        (() => {\n",
              "          const chartElement = document.getElementById(\"chart-cc2cc441-a6a5-40c7-84d6-cddc5624b267\");\n",
              "          async function getCodeForChartHandler(event) {\n",
              "            const chartCodeResponse =  await google.colab.kernel.invokeFunction(\n",
              "                'getCodeForChart', [\"chart-cc2cc441-a6a5-40c7-84d6-cddc5624b267\"], {});\n",
              "            const responseJson = chartCodeResponse.data['application/json'];\n",
              "            await google.colab.notebook.addCell(responseJson.code, 'code');\n",
              "          }\n",
              "          chartElement.onclick = getCodeForChartHandler;\n",
              "        })();\n",
              "      </script>\n",
              "      <style>\n",
              "        .colab-quickchart-chart-with-code  {\n",
              "            display: block;\n",
              "            float: left;\n",
              "            border: 1px solid transparent;\n",
              "        }\n",
              "\n",
              "        .colab-quickchart-chart-with-code:hover {\n",
              "            cursor: pointer;\n",
              "            border: 1px solid #aaa;\n",
              "        }\n",
              "      </style>"
            ]
          },
          "metadata": {}
        }
      ]
    },
    {
      "cell_type": "markdown",
      "source": [
        "# 5. Why is Seaborn preferred for statistical visualizations?\n",
        "\n",
        "Ans:-\n",
        "- Seaborn is preferred for its high-level interface, attractive default styles, and built-in statistical plotting (e.g., heatmaps, pairplots), making it easier to visualize complex datasets compared to Matplotlib.\n",
        "\n",
        "Example: \"sns.heatmap(df.corr())\""
      ],
      "metadata": {
        "id": "bKbnuf9zDRja"
      }
    },
    {
      "cell_type": "markdown",
      "source": [
        "# 6. What are the differences between NumPy arrays and Python lists?\n",
        "Ans:-\n",
        "- NumPy arrays are homogeneous (same data type), optimized for numerical operations, and faster.\n",
        "- Python lists are heterogeneous, more flexible, but slower for large data.\n",
        "-**Difference**: NumPy arrays use less memory and support vectorized operations.\n",
        "\n",
        "Example:-\n"
      ],
      "metadata": {
        "id": "ZsCV0MjtDROV"
      }
    },
    {
      "cell_type": "code",
      "source": [
        "# example 1\n",
        "import numpy as np\n",
        "np6a= np.array([1,2])\n",
        "np6b=np.array([3,\"aman\"])\n",
        "print(np6a,np6b)"
      ],
      "metadata": {
        "colab": {
          "base_uri": "https://localhost:8080/"
        },
        "id": "PFQTNXIMbvUV",
        "outputId": "2674a238-a103-4e59-e771-b64617f5f3d1"
      },
      "execution_count": null,
      "outputs": [
        {
          "output_type": "stream",
          "name": "stdout",
          "text": [
            "[1 2] ['3' 'aman']\n"
          ]
        }
      ]
    },
    {
      "cell_type": "code",
      "source": [
        "#similarly example 2\n",
        "import numpy as np\n",
        "np6a= np.array([\"amazon cutomer id\",25259684.265])\n",
        "np6b=np.array([\"order\", 4])\n",
        "print(np6a,np6b)"
      ],
      "metadata": {
        "colab": {
          "base_uri": "https://localhost:8080/"
        },
        "id": "gDVoWsHqb5-b",
        "outputId": "a766ee35-4958-44ec-deec-16e53077c6c1"
      },
      "execution_count": null,
      "outputs": [
        {
          "output_type": "stream",
          "name": "stdout",
          "text": [
            "['amazon cutomer id' '25259684.265'] ['order' '4']\n"
          ]
        }
      ]
    },
    {
      "cell_type": "markdown",
      "source": [
        "# 7. What is a heatmap, and when should it be used?\n",
        "Ans:-\n",
        "- A heatmap is a graphical representation of data where individual values are shown as colors, used to visualize matrix-like data (e.g., correlations) and identify patterns or anomalies.\n",
        "\n",
        "Example:- Use a heatmap for correlation matrices in data analysis."
      ],
      "metadata": {
        "id": "pC_enQDSDqp0"
      }
    },
    {
      "cell_type": "markdown",
      "source": [
        "# 8. What does the term \"vectorized operation\" mean in NumPy?\n",
        "Ans:-\n",
        "- Vectorized operations perform element-wise computations on arrays without explicit loops, leveraging NumPy’s optimized C-based implementation for speed.\n",
        "\n",
        "Example:-"
      ],
      "metadata": {
        "id": "0ZMM9bKhDqjN"
      }
    },
    {
      "cell_type": "code",
      "source": [
        "import numpy as np\n",
        "np8a=np.array([1,2])*np.array([3,4])\n",
        "print(np8a)"
      ],
      "metadata": {
        "colab": {
          "base_uri": "https://localhost:8080/"
        },
        "id": "2CtBBdh3gJWy",
        "outputId": "1242fcee-cced-400d-de71-9b8ba5320a6d"
      },
      "execution_count": null,
      "outputs": [
        {
          "output_type": "stream",
          "name": "stdout",
          "text": [
            "[3 8]\n"
          ]
        }
      ]
    },
    {
      "cell_type": "code",
      "source": [
        "import numpy as np\n",
        "np8b = np.array([1,2,3])*np.array([4,5,6])\n",
        "print(np8b)"
      ],
      "metadata": {
        "colab": {
          "base_uri": "https://localhost:8080/"
        },
        "id": "v0pBsAEdgyhO",
        "outputId": "fb962477-96a3-4fe7-dde4-d2f6c22d7c1b"
      },
      "execution_count": null,
      "outputs": [
        {
          "output_type": "stream",
          "name": "stdout",
          "text": [
            "[ 4 10 18]\n"
          ]
        }
      ]
    },
    {
      "cell_type": "code",
      "source": [
        "import numpy as np\n",
        "np8c = np.array([[1],[2],[3]])*np.array([4,5,6])\n",
        "print(np8c)"
      ],
      "metadata": {
        "colab": {
          "base_uri": "https://localhost:8080/"
        },
        "id": "-nFA8rRrg-z0",
        "outputId": "ccdd7fac-779d-4ab8-c20d-556d949adeed"
      },
      "execution_count": null,
      "outputs": [
        {
          "output_type": "stream",
          "name": "stdout",
          "text": [
            "[[ 4  5  6]\n",
            " [ 8 10 12]\n",
            " [12 15 18]]\n"
          ]
        }
      ]
    },
    {
      "cell_type": "markdown",
      "source": [
        "# 9. How does Matplotlib differ from Plotly?\n",
        "Ans:-\n",
        "- Matplotlib is a static plotting library with fine-grained control, widely used for 2D plots.\n",
        "- Plotly offers interactive, web-based visualizations with hover effects and zoom.\n",
        "**Difference**: Matplotlib is simpler for basic plots; Plotly excels in interactivity.\n",
        "\n",
        "Example:- \"plt.plot()\" vs \"px.line()\"."
      ],
      "metadata": {
        "id": "POLB3sJLDqbz"
      }
    },
    {
      "cell_type": "markdown",
      "source": [
        "# 10. What is the significance of hierarchical indexing in Pandas?\n",
        "Ans:-\n",
        "- Hierarchical indexing (MultiIndex) allows multiple levels of indices on rows or columns, enabling advanced data organization and slicing for complex datasets.\n",
        "\n",
        "Example:- df.set_index(['A', 'B']) creates a MultiIndex."
      ],
      "metadata": {
        "id": "kFzP9B4UDqYz"
      }
    },
    {
      "cell_type": "code",
      "source": [
        "import pandas as pd;\n",
        "df = pd.DataFrame({'Name': ['Sita', 'Ram', 'Lakshman', 'Maruti', 'Kesari' ], 'Score': [97, 108, 101, 107, 70]})\n",
        "print(df)\n",
        "df.set_index(['Name', 'Score'])"
      ],
      "metadata": {
        "colab": {
          "base_uri": "https://localhost:8080/",
          "height": 329
        },
        "id": "eqjRTEtHhvoD",
        "outputId": "3ff1dc98-285a-4cc5-f107-9dfd9102fd70"
      },
      "execution_count": null,
      "outputs": [
        {
          "output_type": "stream",
          "name": "stdout",
          "text": [
            "       Name  Score\n",
            "0      Sita     97\n",
            "1       Ram    108\n",
            "2  Lakshman    101\n",
            "3    Maruti    107\n",
            "4    Kesari     70\n"
          ]
        },
        {
          "output_type": "execute_result",
          "data": {
            "text/plain": [
              "Empty DataFrame\n",
              "Columns: []\n",
              "Index: [(Sita, 97), (Ram, 108), (Lakshman, 101), (Maruti, 107), (Kesari, 70)]"
            ],
            "text/html": [
              "\n",
              "  <div id=\"df-4d4dfeb1-61b4-4df4-bd97-35dfb951b454\" class=\"colab-df-container\">\n",
              "    <div>\n",
              "<style scoped>\n",
              "    .dataframe tbody tr th:only-of-type {\n",
              "        vertical-align: middle;\n",
              "    }\n",
              "\n",
              "    .dataframe tbody tr th {\n",
              "        vertical-align: top;\n",
              "    }\n",
              "\n",
              "    .dataframe thead th {\n",
              "        text-align: right;\n",
              "    }\n",
              "</style>\n",
              "<table border=\"1\" class=\"dataframe\">\n",
              "  <thead>\n",
              "    <tr style=\"text-align: right;\">\n",
              "      <th></th>\n",
              "      <th></th>\n",
              "    </tr>\n",
              "    <tr>\n",
              "      <th>Name</th>\n",
              "      <th>Score</th>\n",
              "    </tr>\n",
              "  </thead>\n",
              "  <tbody>\n",
              "    <tr>\n",
              "      <th>Sita</th>\n",
              "      <th>97</th>\n",
              "    </tr>\n",
              "    <tr>\n",
              "      <th>Ram</th>\n",
              "      <th>108</th>\n",
              "    </tr>\n",
              "    <tr>\n",
              "      <th>Lakshman</th>\n",
              "      <th>101</th>\n",
              "    </tr>\n",
              "    <tr>\n",
              "      <th>Maruti</th>\n",
              "      <th>107</th>\n",
              "    </tr>\n",
              "    <tr>\n",
              "      <th>Kesari</th>\n",
              "      <th>70</th>\n",
              "    </tr>\n",
              "  </tbody>\n",
              "</table>\n",
              "</div>\n",
              "    <div class=\"colab-df-buttons\">\n",
              "\n",
              "  <div class=\"colab-df-container\">\n",
              "    <button class=\"colab-df-convert\" onclick=\"convertToInteractive('df-4d4dfeb1-61b4-4df4-bd97-35dfb951b454')\"\n",
              "            title=\"Convert this dataframe to an interactive table.\"\n",
              "            style=\"display:none;\">\n",
              "\n",
              "  <svg xmlns=\"http://www.w3.org/2000/svg\" height=\"24px\" viewBox=\"0 -960 960 960\">\n",
              "    <path d=\"M120-120v-720h720v720H120Zm60-500h600v-160H180v160Zm220 220h160v-160H400v160Zm0 220h160v-160H400v160ZM180-400h160v-160H180v160Zm440 0h160v-160H620v160ZM180-180h160v-160H180v160Zm440 0h160v-160H620v160Z\"/>\n",
              "  </svg>\n",
              "    </button>\n",
              "\n",
              "  <style>\n",
              "    .colab-df-container {\n",
              "      display:flex;\n",
              "      gap: 12px;\n",
              "    }\n",
              "\n",
              "    .colab-df-convert {\n",
              "      background-color: #E8F0FE;\n",
              "      border: none;\n",
              "      border-radius: 50%;\n",
              "      cursor: pointer;\n",
              "      display: none;\n",
              "      fill: #1967D2;\n",
              "      height: 32px;\n",
              "      padding: 0 0 0 0;\n",
              "      width: 32px;\n",
              "    }\n",
              "\n",
              "    .colab-df-convert:hover {\n",
              "      background-color: #E2EBFA;\n",
              "      box-shadow: 0px 1px 2px rgba(60, 64, 67, 0.3), 0px 1px 3px 1px rgba(60, 64, 67, 0.15);\n",
              "      fill: #174EA6;\n",
              "    }\n",
              "\n",
              "    .colab-df-buttons div {\n",
              "      margin-bottom: 4px;\n",
              "    }\n",
              "\n",
              "    [theme=dark] .colab-df-convert {\n",
              "      background-color: #3B4455;\n",
              "      fill: #D2E3FC;\n",
              "    }\n",
              "\n",
              "    [theme=dark] .colab-df-convert:hover {\n",
              "      background-color: #434B5C;\n",
              "      box-shadow: 0px 1px 3px 1px rgba(0, 0, 0, 0.15);\n",
              "      filter: drop-shadow(0px 1px 2px rgba(0, 0, 0, 0.3));\n",
              "      fill: #FFFFFF;\n",
              "    }\n",
              "  </style>\n",
              "\n",
              "    <script>\n",
              "      const buttonEl =\n",
              "        document.querySelector('#df-4d4dfeb1-61b4-4df4-bd97-35dfb951b454 button.colab-df-convert');\n",
              "      buttonEl.style.display =\n",
              "        google.colab.kernel.accessAllowed ? 'block' : 'none';\n",
              "\n",
              "      async function convertToInteractive(key) {\n",
              "        const element = document.querySelector('#df-4d4dfeb1-61b4-4df4-bd97-35dfb951b454');\n",
              "        const dataTable =\n",
              "          await google.colab.kernel.invokeFunction('convertToInteractive',\n",
              "                                                    [key], {});\n",
              "        if (!dataTable) return;\n",
              "\n",
              "        const docLinkHtml = 'Like what you see? Visit the ' +\n",
              "          '<a target=\"_blank\" href=https://colab.research.google.com/notebooks/data_table.ipynb>data table notebook</a>'\n",
              "          + ' to learn more about interactive tables.';\n",
              "        element.innerHTML = '';\n",
              "        dataTable['output_type'] = 'display_data';\n",
              "        await google.colab.output.renderOutput(dataTable, element);\n",
              "        const docLink = document.createElement('div');\n",
              "        docLink.innerHTML = docLinkHtml;\n",
              "        element.appendChild(docLink);\n",
              "      }\n",
              "    </script>\n",
              "  </div>\n",
              "\n",
              "\n",
              "    <div id=\"df-e655256f-488d-478a-94eb-ff1fdd028f84\">\n",
              "      <button class=\"colab-df-quickchart\" onclick=\"quickchart('df-e655256f-488d-478a-94eb-ff1fdd028f84')\"\n",
              "                title=\"Suggest charts\"\n",
              "                style=\"display:none;\">\n",
              "\n",
              "<svg xmlns=\"http://www.w3.org/2000/svg\" height=\"24px\"viewBox=\"0 0 24 24\"\n",
              "     width=\"24px\">\n",
              "    <g>\n",
              "        <path d=\"M19 3H5c-1.1 0-2 .9-2 2v14c0 1.1.9 2 2 2h14c1.1 0 2-.9 2-2V5c0-1.1-.9-2-2-2zM9 17H7v-7h2v7zm4 0h-2V7h2v10zm4 0h-2v-4h2v4z\"/>\n",
              "    </g>\n",
              "</svg>\n",
              "      </button>\n",
              "\n",
              "<style>\n",
              "  .colab-df-quickchart {\n",
              "      --bg-color: #E8F0FE;\n",
              "      --fill-color: #1967D2;\n",
              "      --hover-bg-color: #E2EBFA;\n",
              "      --hover-fill-color: #174EA6;\n",
              "      --disabled-fill-color: #AAA;\n",
              "      --disabled-bg-color: #DDD;\n",
              "  }\n",
              "\n",
              "  [theme=dark] .colab-df-quickchart {\n",
              "      --bg-color: #3B4455;\n",
              "      --fill-color: #D2E3FC;\n",
              "      --hover-bg-color: #434B5C;\n",
              "      --hover-fill-color: #FFFFFF;\n",
              "      --disabled-bg-color: #3B4455;\n",
              "      --disabled-fill-color: #666;\n",
              "  }\n",
              "\n",
              "  .colab-df-quickchart {\n",
              "    background-color: var(--bg-color);\n",
              "    border: none;\n",
              "    border-radius: 50%;\n",
              "    cursor: pointer;\n",
              "    display: none;\n",
              "    fill: var(--fill-color);\n",
              "    height: 32px;\n",
              "    padding: 0;\n",
              "    width: 32px;\n",
              "  }\n",
              "\n",
              "  .colab-df-quickchart:hover {\n",
              "    background-color: var(--hover-bg-color);\n",
              "    box-shadow: 0 1px 2px rgba(60, 64, 67, 0.3), 0 1px 3px 1px rgba(60, 64, 67, 0.15);\n",
              "    fill: var(--button-hover-fill-color);\n",
              "  }\n",
              "\n",
              "  .colab-df-quickchart-complete:disabled,\n",
              "  .colab-df-quickchart-complete:disabled:hover {\n",
              "    background-color: var(--disabled-bg-color);\n",
              "    fill: var(--disabled-fill-color);\n",
              "    box-shadow: none;\n",
              "  }\n",
              "\n",
              "  .colab-df-spinner {\n",
              "    border: 2px solid var(--fill-color);\n",
              "    border-color: transparent;\n",
              "    border-bottom-color: var(--fill-color);\n",
              "    animation:\n",
              "      spin 1s steps(1) infinite;\n",
              "  }\n",
              "\n",
              "  @keyframes spin {\n",
              "    0% {\n",
              "      border-color: transparent;\n",
              "      border-bottom-color: var(--fill-color);\n",
              "      border-left-color: var(--fill-color);\n",
              "    }\n",
              "    20% {\n",
              "      border-color: transparent;\n",
              "      border-left-color: var(--fill-color);\n",
              "      border-top-color: var(--fill-color);\n",
              "    }\n",
              "    30% {\n",
              "      border-color: transparent;\n",
              "      border-left-color: var(--fill-color);\n",
              "      border-top-color: var(--fill-color);\n",
              "      border-right-color: var(--fill-color);\n",
              "    }\n",
              "    40% {\n",
              "      border-color: transparent;\n",
              "      border-right-color: var(--fill-color);\n",
              "      border-top-color: var(--fill-color);\n",
              "    }\n",
              "    60% {\n",
              "      border-color: transparent;\n",
              "      border-right-color: var(--fill-color);\n",
              "    }\n",
              "    80% {\n",
              "      border-color: transparent;\n",
              "      border-right-color: var(--fill-color);\n",
              "      border-bottom-color: var(--fill-color);\n",
              "    }\n",
              "    90% {\n",
              "      border-color: transparent;\n",
              "      border-bottom-color: var(--fill-color);\n",
              "    }\n",
              "  }\n",
              "</style>\n",
              "\n",
              "      <script>\n",
              "        async function quickchart(key) {\n",
              "          const quickchartButtonEl =\n",
              "            document.querySelector('#' + key + ' button');\n",
              "          quickchartButtonEl.disabled = true;  // To prevent multiple clicks.\n",
              "          quickchartButtonEl.classList.add('colab-df-spinner');\n",
              "          try {\n",
              "            const charts = await google.colab.kernel.invokeFunction(\n",
              "                'suggestCharts', [key], {});\n",
              "          } catch (error) {\n",
              "            console.error('Error during call to suggestCharts:', error);\n",
              "          }\n",
              "          quickchartButtonEl.classList.remove('colab-df-spinner');\n",
              "          quickchartButtonEl.classList.add('colab-df-quickchart-complete');\n",
              "        }\n",
              "        (() => {\n",
              "          let quickchartButtonEl =\n",
              "            document.querySelector('#df-e655256f-488d-478a-94eb-ff1fdd028f84 button');\n",
              "          quickchartButtonEl.style.display =\n",
              "            google.colab.kernel.accessAllowed ? 'block' : 'none';\n",
              "        })();\n",
              "      </script>\n",
              "    </div>\n",
              "\n",
              "    </div>\n",
              "  </div>\n"
            ],
            "application/vnd.google.colaboratory.intrinsic+json": {
              "type": "dataframe",
              "summary": "{\n  \"name\": \"df\",\n  \"rows\": 5,\n  \"fields\": []\n}"
            }
          },
          "metadata": {},
          "execution_count": 165
        }
      ]
    },
    {
      "cell_type": "markdown",
      "source": [
        "# 11. What is the role of Seaborn's pairplot() function?\n",
        "Ans:-\n",
        "- The `pairplot()` function creates a grid of scatterplots and histograms to visualize pairwise relationships and distributions across all columns in a DataFrame.\n",
        "\n",
        "Example:- sns.pairplot(df)."
      ],
      "metadata": {
        "id": "siHQggaHDqSO"
      }
    },
    {
      "cell_type": "markdown",
      "source": [
        "# 12. What is the purpose of the describe() function in Pandas?\n",
        "**Answer**: The `describe()` function provides a statistical summary (e.g., count, mean, std, min, max) of numerical columns in a DataFrame, aiding quick data exploration.\n",
        "**Example**: `df.describe()`."
      ],
      "metadata": {
        "id": "FUdF_tK9EcTC"
      }
    },
    {
      "cell_type": "markdown",
      "source": [
        "# 13. Why is handling missing data important in Pandas?\n",
        "Ans:-\n",
        "-  Handling missing data prevents errors, ensures accurate analysis, and maintains data integrity by filling, dropping, or interpolating missing values.\n",
        "\n",
        "Example:- \"df.dropna()\" removes rows with missing data."
      ],
      "metadata": {
        "id": "49o6t3gFEcLZ"
      }
    },
    {
      "cell_type": "markdown",
      "source": [
        "# 14. What are the benefits of using Plotly for data visualization?\n",
        "Ans:-\n",
        "- Plotly offers interactivity (zoom, hover), web compatibility, 3D plotting, and export options, making it ideal for dynamic presentations and dashboards.\n",
        "\n",
        "Example:- \"px.scatter_3d()\""
      ],
      "metadata": {
        "id": "Ve48_O_cEcG-"
      }
    },
    {
      "cell_type": "markdown",
      "source": [
        "# 15. How does NumPy handle multidimensional arrays?\n",
        "Ans:-\n",
        "- NumPy uses the `ndarray` object to store multidimensional arrays, supporting arbitrary dimensions with efficient indexing, slicing, and operations.\n",
        "\n",
        "Example:- \"np.array([[1, 2], [3, 4]])\"."
      ],
      "metadata": {
        "id": "AxNGHt9-EcEz"
      }
    },
    {
      "cell_type": "markdown",
      "source": [
        "# 16. What is the role of Bokeh in data visualization?\n",
        "Ans:-\n",
        "- Bokeh creates interactive, web-ready visualizations with a focus on large datasets and custom layouts, complementing Matplotlib and Plotly.\n",
        "\n",
        "Example:- \"from bokeh.plotting import figure; p = figure()\"."
      ],
      "metadata": {
        "id": "kZKhYjoPEcCc"
      }
    },
    {
      "cell_type": "markdown",
      "source": [
        "# 17. Explain the difference between apply() and map() in Pandas?\n",
        "Ans:-\n",
        "- `apply()`: Applies a function along an axis of a DataFrame or Series.\n",
        "- `map()`: Applies a function to each element of a Series.\n",
        "**Difference**: `apply()` works on rows/columns; `map()` is for element-wise operations.\n",
        "\n",
        "Example:- \"df['A'].map(lambda x: x*2)` vs. `df.apply(lambda x: x.sum(), axis=1)\"."
      ],
      "metadata": {
        "id": "8qxtuiDqEb_1"
      }
    },
    {
      "cell_type": "markdown",
      "source": [
        "# 18. What are some advanced features of NumPy?\n",
        "Ans:- Advanced features include broadcasting, linear algebra (e.g., `np.linalg`), random number generation, and advanced indexing.\n",
        "\n",
        "Example:- \"np.linalg.inv()\" for matrix inversion."
      ],
      "metadata": {
        "id": "yiuGiFJeE1kO"
      }
    },
    {
      "cell_type": "markdown",
      "source": [
        "# 19. How does Pandas simplify time series analysis?\n",
        "Ans:-\n",
        "- Pandas provides tools like `DatetimeIndex`, resampling, rolling windows, and time zone handling, making it easy to manipulate and analyze time-series data.\n",
        "\n",
        "Example:- \"pd.date_range('2025-01-01', periods=3)\"."
      ],
      "metadata": {
        "id": "cM6p3JmlE1g7"
      }
    },
    {
      "cell_type": "markdown",
      "source": [
        "# 20. What is the role of a pivot table in Pandas?\n",
        "Ans:-\n",
        "- A pivot table summarizes and reshapes data by aggregating values based on one or more keys, useful for cross-tabulations.\n",
        "\n",
        "Example:- \"pd.pivot_table(df, values='D', index='A', columns='B', aggfunc='mean')\"."
      ],
      "metadata": {
        "id": "lRhG9KDbE1e3"
      }
    },
    {
      "cell_type": "markdown",
      "source": [
        "# 21. Why is NumPy's array slicing faster than Python's list slicing?\n",
        "Ans:-\n",
        "- NumPy’s array slicing is faster due to its contiguous memory allocation and optimized C-based implementation, unlike Python lists which are arrays of pointers.\n",
        "\n",
        "Example:- `np.array([1, 2])[0:2]` vs. `[1, 2][0:2]`."
      ],
      "metadata": {
        "id": "FCN8RzRnE1QX"
      }
    },
    {
      "cell_type": "markdown",
      "source": [
        "# 22. What are some common use cases for Seaborn?\n",
        "Ans:-\n",
        "- Common use cases include statistical visualizations (e.g., heatmaps, box plots, pairplots) for exploring relationships and distributions in datasets.\n",
        "\n",
        "Example:- `sns.boxplot(data=df)`."
      ],
      "metadata": {
        "id": "aKCr8SFQE1NM"
      }
    },
    {
      "cell_type": "markdown",
      "source": [
        "#***Practical Question***"
      ],
      "metadata": {
        "id": "IHKYLF3pF0uF"
      }
    },
    {
      "cell_type": "markdown",
      "source": [
        "# 1. How do you create a 2D NumPy array and calculate the sum of each row?\n"
      ],
      "metadata": {
        "id": "FjWt-4B5Owvh"
      }
    },
    {
      "cell_type": "code",
      "source": [
        "import numpy as np\n",
        "a1 = np.array([[1, 2, 3], [4, 5, 6], [7, 8, 9]])           #Create a 2D NumPy array\n",
        "print(f\"2D NumPy array: {a1}\")\n",
        "\n",
        "row_sums = np.sum(a1, axis=1)                              #Calculate sum of each row\n",
        "print(f\"row sums: {row_sums}\")"
      ],
      "metadata": {
        "colab": {
          "base_uri": "https://localhost:8080/"
        },
        "id": "ryPIfaMrn6LG",
        "outputId": "97c604b9-9fff-484d-d000-f3232de132cd"
      },
      "execution_count": null,
      "outputs": [
        {
          "output_type": "stream",
          "name": "stdout",
          "text": [
            "2D NumPy array: [[1 2 3]\n",
            " [4 5 6]\n",
            " [7 8 9]]\n",
            "row sums: [ 6 15 24]\n"
          ]
        }
      ]
    },
    {
      "cell_type": "markdown",
      "source": [
        "# 2. Write a Pandas script to find the mean of a specific column in a DataFrame?"
      ],
      "metadata": {
        "id": "4O3dQ1jfOwHO"
      }
    },
    {
      "cell_type": "code",
      "source": [
        "import pandas as pd                                        #Create a DataFrame\n",
        "data = {'Name': ['Sita', 'Ram', 'Lakshman', 'Maruti'], 'Age': [27,27,30,21]}          #Using your name and age\n",
        "df = pd.DataFrame(data)\n",
        "mean_age = df['Age'].mean()                                #Find mean of Age column\n",
        "print(f\"Mean age: {mean_age}\")"
      ],
      "metadata": {
        "colab": {
          "base_uri": "https://localhost:8080/"
        },
        "id": "zrD-so21pgZ7",
        "outputId": "906c2e6d-23d7-4f77-c609-a95ad57a9029"
      },
      "execution_count": null,
      "outputs": [
        {
          "output_type": "stream",
          "name": "stdout",
          "text": [
            "Mean age: 26.25\n"
          ]
        }
      ]
    },
    {
      "cell_type": "markdown",
      "source": [
        "# 3. Create a scatter plot using Matplotlib?"
      ],
      "metadata": {
        "id": "TfaNptd4Ov2i"
      }
    },
    {
      "cell_type": "code",
      "source": [
        "import matplotlib.pyplot as plt\n",
        "x = [1, 2, 3, 4]                                                  #Data1\n",
        "y = [7, 10, 3, 15]                                              #Using year from purchase date\n",
        "\n",
        "# Create scatter plot\n",
        "plt.scatter(x, y, color='orange', label='Vehicle id')\n",
        "plt.xlabel('X-axis')\n",
        "plt.ylabel('Y-axis')\n",
        "plt.title('Scatter Plot')\n",
        "plt.legend()\n",
        "plt.show()"
      ],
      "metadata": {
        "colab": {
          "base_uri": "https://localhost:8080/",
          "height": 472
        },
        "id": "ArOrvhEcsguD",
        "outputId": "a4c7386a-83d4-4af1-aeb8-b4485dc9e172"
      },
      "execution_count": null,
      "outputs": [
        {
          "output_type": "display_data",
          "data": {
            "text/plain": [
              "<Figure size 640x480 with 1 Axes>"
            ],
            "image/png": "[encoded data removed]"
          },
          "metadata": {}
        }
      ]
    },
    {
      "cell_type": "markdown",
      "source": [
        "# 4. How do you calculate the correlation matrix using Seaborn and visualize it with a heatmap?"
      ],
      "metadata": {
        "id": "bGObmSTUOu7p"
      }
    },
    {
      "cell_type": "code",
      "source": [
        "import seaborn as sns\n",
        "import matplotlib.pyplot as plt\n",
        "import pandas as pd\n",
        "\n",
        "data = {'A': [-10, 0, 10], 'B': [-7, 1, -8], 'C': [-7, -8, -9]} # Create a DataFrame\n",
        "df = pd.DataFrame(data)\n",
        "\n",
        "# Calculate correlation matrix and plot heatmap\n",
        "correlation_matrix = df.corr()\n",
        "sns.heatmap(correlation_matrix, annot=True, cmap='coolwarm', vmin=-10, vmax=10)\n",
        "plt.title(\"Correlation Heatmap\")\n",
        "plt.show()"
      ],
      "metadata": {
        "colab": {
          "base_uri": "https://localhost:8080/",
          "height": 452
        },
        "id": "Vlo7FKYluH7s",
        "outputId": "ec7d0442-06f3-4aae-9be5-c1f6f0fc729c"
      },
      "execution_count": null,
      "outputs": [
        {
          "output_type": "display_data",
          "data": {
            "text/plain": [
              "<Figure size 640x480 with 2 Axes>"
            ],
            "image/png": "[encoded data removed]"
          },
          "metadata": {}
        }
      ]
    },
    {
      "cell_type": "markdown",
      "source": [
        "# 5. Generate a bar plot using Plotly?"
      ],
      "metadata": {
        "id": "kziPXIp2Ouv1"
      }
    },
    {
      "cell_type": "code",
      "source": [
        "import plotly.express as px\n",
        "\n",
        "# Data\n",
        "data = {'Category name': ['Car','Bike','Truck', 'Taxi', 'Airplane', 'Railway', 'Ferry'], 'Quantity': [27004, 216521, 260630, 165645, 165464, 45564, 16562]}\n",
        "df = pd.DataFrame(data)\n",
        "\n",
        "# Create bar plot\n",
        "fig = px.bar(df, x='Category name', y='Quantity', title='Vehicle in XYZ country')\n",
        "fig.show()"
      ],
      "metadata": {
        "colab": {
          "base_uri": "https://localhost:8080/",
          "height": 542
        },
        "id": "PjImZlHgwzdL",
        "outputId": "07068ab4-d298-4f9c-fd77-e5305b244353"
      },
      "execution_count": null,
      "outputs": [
        {
          "output_type": "display_data",
          "data": {
            "text/html": [
              "<html>\n",
              "<head><meta charset=\"utf-8\" /></head>\n",
              "<body>\n",
              "    <div>            <script src=\"https://cdnjs.cloudflare.com/ajax/libs/mathjax/2.7.5/MathJax.js?config=TeX-AMS-MML_SVG\"></script><script type=\"text/javascript\">if (window.MathJax && window.MathJax.Hub && window.MathJax.Hub.Config) {window.MathJax.Hub.Config({SVG: {font: \"STIX-Web\"}});}</script>                <script type=\"text/javascript\">window.PlotlyConfig = {MathJaxConfig: 'local'};</script>\n",
              "        <script charset=\"utf-8\" src=\"https://cdn.plot.ly/plotly-2.35.2.min.js\"></script>                <div id=\"f0b7dc2d-6908-40b4-8f8e-a929759c14c3\" class=\"plotly-graph-div\" style=\"height:525px; width:100%;\"></div>            <script type=\"text/javascript\">                                    window.PLOTLYENV=window.PLOTLYENV || {};                                    if (document.getElementById(\"f0b7dc2d-6908-40b4-8f8e-a929759c14c3\")) {                    Plotly.newPlot(                        \"f0b7dc2d-6908-40b4-8f8e-a929759c14c3\",                        [{\"alignmentgroup\":\"True\",\"hovertemplate\":\"Category name=%{x}\\u003cbr\\u003eQuantity=%{y}\\u003cextra\\u003e\\u003c\\u002fextra\\u003e\",\"legendgroup\":\"\",\"marker\":{\"color\":\"#636efa\",\"pattern\":{\"shape\":\"\"}},\"name\":\"\",\"offsetgroup\":\"\",\"orientation\":\"v\",\"showlegend\":false,\"textposition\":\"auto\",\"x\":[\"Car\",\"Bike\",\"Truck\",\"Taxi\",\"Airplane\",\"Railway\",\"Ferry\"],\"xaxis\":\"x\",\"y\":[27004,216521,260630,165645,165464,45564,16562],\"yaxis\":\"y\",\"type\":\"bar\"}],                        {\"template\":{\"data\":{\"histogram2dcontour\":[{\"type\":\"histogram2dcontour\",\"colorbar\":{\"outlinewidth\":0,\"ticks\":\"\"},\"colorscale\":[[0.0,\"#0d0887\"],[0.1111111111111111,\"#46039f\"],[0.2222222222222222,\"#7201a8\"],[0.3333333333333333,\"#9c179e\"],[0.4444444444444444,\"#bd3786\"],[0.5555555555555556,\"#d8576b\"],[0.6666666666666666,\"#ed7953\"],[0.7777777777777778,\"#fb9f3a\"],[0.8888888888888888,\"#fdca26\"],[1.0,\"#f0f921\"]]}],\"choropleth\":[{\"type\":\"choropleth\",\"colorbar\":{\"outlinewidth\":0,\"ticks\":\"\"}}],\"histogram2d\":[{\"type\":\"histogram2d\",\"colorbar\":{\"outlinewidth\":0,\"ticks\":\"\"},\"colorscale\":[[0.0,\"#0d0887\"],[0.1111111111111111,\"#46039f\"],[0.2222222222222222,\"#7201a8\"],[0.3333333333333333,\"#9c179e\"],[0.4444444444444444,\"#bd3786\"],[0.5555555555555556,\"#d8576b\"],[0.6666666666666666,\"#ed7953\"],[0.7777777777777778,\"#fb9f3a\"],[0.8888888888888888,\"#fdca26\"],[1.0,\"#f0f921\"]]}],\"heatmap\":[{\"type\":\"heatmap\",\"colorbar\":{\"outlinewidth\":0,\"ticks\":\"\"},\"colorscale\":[[0.0,\"#0d0887\"],[0.1111111111111111,\"#46039f\"],[0.2222222222222222,\"#7201a8\"],[0.3333333333333333,\"#9c179e\"],[0.4444444444444444,\"#bd3786\"],[0.5555555555555556,\"#d8576b\"],[0.6666666666666666,\"#ed7953\"],[0.7777777777777778,\"#fb9f3a\"],[0.8888888888888888,\"#fdca26\"],[1.0,\"#f0f921\"]]}],\"heatmapgl\":[{\"type\":\"heatmapgl\",\"colorbar\":{\"outlinewidth\":0,\"ticks\":\"\"},\"colorscale\":[[0.0,\"#0d0887\"],[0.1111111111111111,\"#46039f\"],[0.2222222222222222,\"#7201a8\"],[0.3333333333333333,\"#9c179e\"],[0.4444444444444444,\"#bd3786\"],[0.5555555555555556,\"#d8576b\"],[0.6666666666666666,\"#ed7953\"],[0.7777777777777778,\"#fb9f3a\"],[0.8888888888888888,\"#fdca26\"],[1.0,\"#f0f921\"]]}],\"contourcarpet\":[{\"type\":\"contourcarpet\",\"colorbar\":{\"outlinewidth\":0,\"ticks\":\"\"}}],\"contour\":[{\"type\":\"contour\",\"colorbar\":{\"outlinewidth\":0,\"ticks\":\"\"},\"colorscale\":[[0.0,\"#0d0887\"],[0.1111111111111111,\"#46039f\"],[0.2222222222222222,\"#7201a8\"],[0.3333333333333333,\"#9c179e\"],[0.4444444444444444,\"#bd3786\"],[0.5555555555555556,\"#d8576b\"],[0.6666666666666666,\"#ed7953\"],[0.7777777777777778,\"#fb9f3a\"],[0.8888888888888888,\"#fdca26\"],[1.0,\"#f0f921\"]]}],\"surface\":[{\"type\":\"surface\",\"colorbar\":{\"outlinewidth\":0,\"ticks\":\"\"},\"colorscale\":[[0.0,\"#0d0887\"],[0.1111111111111111,\"#46039f\"],[0.2222222222222222,\"#7201a8\"],[0.3333333333333333,\"#9c179e\"],[0.4444444444444444,\"#bd3786\"],[0.5555555555555556,\"#d8576b\"],[0.6666666666666666,\"#ed7953\"],[0.7777777777777778,\"#fb9f3a\"],[0.8888888888888888,\"#fdca26\"],[1.0,\"#f0f921\"]]}],\"mesh3d\":[{\"type\":\"mesh3d\",\"colorbar\":{\"outlinewidth\":0,\"ticks\":\"\"}}],\"scatter\":[{\"fillpattern\":{\"fillmode\":\"overlay\",\"size\":10,\"solidity\":0.2},\"type\":\"scatter\"}],\"parcoords\":[{\"type\":\"parcoords\",\"line\":{\"colorbar\":{\"outlinewidth\":0,\"ticks\":\"\"}}}],\"scatterpolargl\":[{\"type\":\"scatterpolargl\",\"marker\":{\"colorbar\":{\"outlinewidth\":0,\"ticks\":\"\"}}}],\"bar\":[{\"error_x\":{\"color\":\"#2a3f5f\"},\"error_y\":{\"color\":\"#2a3f5f\"},\"marker\":{\"line\":{\"color\":\"#E5ECF6\",\"width\":0.5},\"pattern\":{\"fillmode\":\"overlay\",\"size\":10,\"solidity\":0.2}},\"type\":\"bar\"}],\"scattergeo\":[{\"type\":\"scattergeo\",\"marker\":{\"colorbar\":{\"outlinewidth\":0,\"ticks\":\"\"}}}],\"scatterpolar\":[{\"type\":\"scatterpolar\",\"marker\":{\"colorbar\":{\"outlinewidth\":0,\"ticks\":\"\"}}}],\"histogram\":[{\"marker\":{\"pattern\":{\"fillmode\":\"overlay\",\"size\":10,\"solidity\":0.2}},\"type\":\"histogram\"}],\"scattergl\":[{\"type\":\"scattergl\",\"marker\":{\"colorbar\":{\"outlinewidth\":0,\"ticks\":\"\"}}}],\"scatter3d\":[{\"type\":\"scatter3d\",\"line\":{\"colorbar\":{\"outlinewidth\":0,\"ticks\":\"\"}},\"marker\":{\"colorbar\":{\"outlinewidth\":0,\"ticks\":\"\"}}}],\"scattermapbox\":[{\"type\":\"scattermapbox\",\"marker\":{\"colorbar\":{\"outlinewidth\":0,\"ticks\":\"\"}}}],\"scatterternary\":[{\"type\":\"scatterternary\",\"marker\":{\"colorbar\":{\"outlinewidth\":0,\"ticks\":\"\"}}}],\"scattercarpet\":[{\"type\":\"scattercarpet\",\"marker\":{\"colorbar\":{\"outlinewidth\":0,\"ticks\":\"\"}}}],\"carpet\":[{\"aaxis\":{\"endlinecolor\":\"#2a3f5f\",\"gridcolor\":\"white\",\"linecolor\":\"white\",\"minorgridcolor\":\"white\",\"startlinecolor\":\"#2a3f5f\"},\"baxis\":{\"endlinecolor\":\"#2a3f5f\",\"gridcolor\":\"white\",\"linecolor\":\"white\",\"minorgridcolor\":\"white\",\"startlinecolor\":\"#2a3f5f\"},\"type\":\"carpet\"}],\"table\":[{\"cells\":{\"fill\":{\"color\":\"#EBF0F8\"},\"line\":{\"color\":\"white\"}},\"header\":{\"fill\":{\"color\":\"#C8D4E3\"},\"line\":{\"color\":\"white\"}},\"type\":\"table\"}],\"barpolar\":[{\"marker\":{\"line\":{\"color\":\"#E5ECF6\",\"width\":0.5},\"pattern\":{\"fillmode\":\"overlay\",\"size\":10,\"solidity\":0.2}},\"type\":\"barpolar\"}],\"pie\":[{\"automargin\":true,\"type\":\"pie\"}]},\"layout\":{\"autotypenumbers\":\"strict\",\"colorway\":[\"#636efa\",\"#EF553B\",\"#00cc96\",\"#ab63fa\",\"#FFA15A\",\"#19d3f3\",\"#FF6692\",\"#B6E880\",\"#FF97FF\",\"#FECB52\"],\"font\":{\"color\":\"#2a3f5f\"},\"hovermode\":\"closest\",\"hoverlabel\":{\"align\":\"left\"},\"paper_bgcolor\":\"white\",\"plot_bgcolor\":\"#E5ECF6\",\"polar\":{\"bgcolor\":\"#E5ECF6\",\"angularaxis\":{\"gridcolor\":\"white\",\"linecolor\":\"white\",\"ticks\":\"\"},\"radialaxis\":{\"gridcolor\":\"white\",\"linecolor\":\"white\",\"ticks\":\"\"}},\"ternary\":{\"bgcolor\":\"#E5ECF6\",\"aaxis\":{\"gridcolor\":\"white\",\"linecolor\":\"white\",\"ticks\":\"\"},\"baxis\":{\"gridcolor\":\"white\",\"linecolor\":\"white\",\"ticks\":\"\"},\"caxis\":{\"gridcolor\":\"white\",\"linecolor\":\"white\",\"ticks\":\"\"}},\"coloraxis\":{\"colorbar\":{\"outlinewidth\":0,\"ticks\":\"\"}},\"colorscale\":{\"sequential\":[[0.0,\"#0d0887\"],[0.1111111111111111,\"#46039f\"],[0.2222222222222222,\"#7201a8\"],[0.3333333333333333,\"#9c179e\"],[0.4444444444444444,\"#bd3786\"],[0.5555555555555556,\"#d8576b\"],[0.6666666666666666,\"#ed7953\"],[0.7777777777777778,\"#fb9f3a\"],[0.8888888888888888,\"#fdca26\"],[1.0,\"#f0f921\"]],\"sequentialminus\":[[0.0,\"#0d0887\"],[0.1111111111111111,\"#46039f\"],[0.2222222222222222,\"#7201a8\"],[0.3333333333333333,\"#9c179e\"],[0.4444444444444444,\"#bd3786\"],[0.5555555555555556,\"#d8576b\"],[0.6666666666666666,\"#ed7953\"],[0.7777777777777778,\"#fb9f3a\"],[0.8888888888888888,\"#fdca26\"],[1.0,\"#f0f921\"]],\"diverging\":[[0,\"#8e0152\"],[0.1,\"#c51b7d\"],[0.2,\"#de77ae\"],[0.3,\"#f1b6da\"],[0.4,\"#fde0ef\"],[0.5,\"#f7f7f7\"],[0.6,\"#e6f5d0\"],[0.7,\"#b8e186\"],[0.8,\"#7fbc41\"],[0.9,\"#4d9221\"],[1,\"#276419\"]]},\"xaxis\":{\"gridcolor\":\"white\",\"linecolor\":\"white\",\"ticks\":\"\",\"title\":{\"standoff\":15},\"zerolinecolor\":\"white\",\"automargin\":true,\"zerolinewidth\":2},\"yaxis\":{\"gridcolor\":\"white\",\"linecolor\":\"white\",\"ticks\":\"\",\"title\":{\"standoff\":15},\"zerolinecolor\":\"white\",\"automargin\":true,\"zerolinewidth\":2},\"scene\":{\"xaxis\":{\"backgroundcolor\":\"#E5ECF6\",\"gridcolor\":\"white\",\"linecolor\":\"white\",\"showbackground\":true,\"ticks\":\"\",\"zerolinecolor\":\"white\",\"gridwidth\":2},\"yaxis\":{\"backgroundcolor\":\"#E5ECF6\",\"gridcolor\":\"white\",\"linecolor\":\"white\",\"showbackground\":true,\"ticks\":\"\",\"zerolinecolor\":\"white\",\"gridwidth\":2},\"zaxis\":{\"backgroundcolor\":\"#E5ECF6\",\"gridcolor\":\"white\",\"linecolor\":\"white\",\"showbackground\":true,\"ticks\":\"\",\"zerolinecolor\":\"white\",\"gridwidth\":2}},\"shapedefaults\":{\"line\":{\"color\":\"#2a3f5f\"}},\"annotationdefaults\":{\"arrowcolor\":\"#2a3f5f\",\"arrowhead\":0,\"arrowwidth\":1},\"geo\":{\"bgcolor\":\"white\",\"landcolor\":\"#E5ECF6\",\"subunitcolor\":\"white\",\"showland\":true,\"showlakes\":true,\"lakecolor\":\"white\"},\"title\":{\"x\":0.05},\"mapbox\":{\"style\":\"light\"}}},\"xaxis\":{\"anchor\":\"y\",\"domain\":[0.0,1.0],\"title\":{\"text\":\"Category name\"}},\"yaxis\":{\"anchor\":\"x\",\"domain\":[0.0,1.0],\"title\":{\"text\":\"Quantity\"}},\"legend\":{\"tracegroupgap\":0},\"title\":{\"text\":\"Vehicle in XYZ country\"},\"barmode\":\"relative\"},                        {\"responsive\": true}                    ).then(function(){\n",
              "                            \n",
              "var gd = document.getElementById('f0b7dc2d-6908-40b4-8f8e-a929759c14c3');\n",
              "var x = new MutationObserver(function (mutations, observer) {{\n",
              "        var display = window.getComputedStyle(gd).display;\n",
              "        if (!display || display === 'none') {{\n",
              "            console.log([gd, 'removed!']);\n",
              "            Plotly.purge(gd);\n",
              "            observer.disconnect();\n",
              "        }}\n",
              "}});\n",
              "\n",
              "// Listen for the removal of the full notebook cells\n",
              "var notebookContainer = gd.closest('#notebook-container');\n",
              "if (notebookContainer) {{\n",
              "    x.observe(notebookContainer, {childList: true});\n",
              "}}\n",
              "\n",
              "// Listen for the clearing of the current output cell\n",
              "var outputEl = gd.closest('.output');\n",
              "if (outputEl) {{\n",
              "    x.observe(outputEl, {childList: true});\n",
              "}}\n",
              "\n",
              "                        })                };                            </script>        </div>\n",
              "</body>\n",
              "</html>"
            ]
          },
          "metadata": {}
        }
      ]
    },
    {
      "cell_type": "markdown",
      "source": [
        "# 6. Create a DataFrame and add a new column based on an existing column?"
      ],
      "metadata": {
        "id": "v4N372q8Povq"
      }
    },
    {
      "cell_type": "code",
      "source": [
        "import pandas as pd\n",
        "\n",
        "# Create a DataFrame\n",
        "data = {'Name': ['Aman', 'Ram', 'Maruti'], 'Age': [29, 27, 21]}  #Using name and age\n",
        "df = pd.DataFrame(data)\n",
        "\n",
        "# Add new column (Age in years doubled)\n",
        "df['Double_Age'] = df['Age']*2\n",
        "print(f\"DataFrame with new column:\\n{df}\")"
      ],
      "metadata": {
        "colab": {
          "base_uri": "https://localhost:8080/"
        },
        "id": "nfGH9Y6Tzlkx",
        "outputId": "d0f9e5f3-a7e5-48c4-9cd1-03796857a4c4"
      },
      "execution_count": null,
      "outputs": [
        {
          "output_type": "stream",
          "name": "stdout",
          "text": [
            "DataFrame with new column:\n",
            "     Name  Age  Double_Age\n",
            "0    Aman   29          58\n",
            "1     Ram   27          54\n",
            "2  Maruti   21          42\n"
          ]
        }
      ]
    },
    {
      "cell_type": "markdown",
      "source": [
        "# 7. Write a program to perform element-wise multiplication of two NumPy arrays?"
      ],
      "metadata": {
        "id": "zYPngG-gPos1"
      }
    },
    {
      "cell_type": "code",
      "source": [
        "import numpy as np\n",
        "\n",
        "# Create two NumPy arrays\n",
        "array1 = np.array([1, 2, 3])\n",
        "array2 = np.array([4, 5, 6])\n",
        "\n",
        "# Element-wise multiplication\n",
        "result = np.multiply(array1, array2)\n",
        "print(f\"Multiplication result: {result}\")"
      ],
      "metadata": {
        "colab": {
          "base_uri": "https://localhost:8080/"
        },
        "id": "lwWyM8Pu0ZrP",
        "outputId": "ddab8d3f-f895-4bec-8557-497407ac05e9"
      },
      "execution_count": null,
      "outputs": [
        {
          "output_type": "stream",
          "name": "stdout",
          "text": [
            "Multiplication result: [ 4 10 18]\n"
          ]
        }
      ]
    },
    {
      "cell_type": "markdown",
      "source": [
        "# 8. Create a line plot with multiple lines using Matplotlib?"
      ],
      "metadata": {
        "id": "SMgOE6fMPopX"
      }
    },
    {
      "cell_type": "code",
      "source": [
        "import matplotlib.pyplot as plt\n",
        "\n",
        "# Data\n",
        "x = [1, 2, 3, 4]\n",
        "y1 = [17, 21, 27, 47]\n",
        "y2 = [7, 17, 10, 51]\n",
        "y3 = [21, 13, 17, 7]\n",
        "# Create line plot with multiple lines\n",
        "plt.plot(x, y1, label='Line 1')\n",
        "plt.plot(x, y2, label='Line 2')\n",
        "plt.plot(x, y3, label='Line 3')\n",
        "plt.xlabel('X-axis')\n",
        "plt.ylabel('Y-axis')\n",
        "plt.title('Multiple Lines')\n",
        "plt.legend()\n",
        "plt.show()"
      ],
      "metadata": {
        "colab": {
          "base_uri": "https://localhost:8080/",
          "height": 472
        },
        "id": "FRWgXFsL1InF",
        "outputId": "2348dd32-ad98-415f-a923-6cf135b15ca2"
      },
      "execution_count": null,
      "outputs": [
        {
          "output_type": "display_data",
          "data": {
            "text/plain": [
              "<Figure size 640x480 with 1 Axes>"
            ],
            "image/png": "[encoded data removed]"
          },
          "metadata": {}
        }
      ]
    },
    {
      "cell_type": "markdown",
      "source": [
        "# 9. Generate a Pandas DataFrame and filter rows where a column value is greater than a threshold?"
      ],
      "metadata": {
        "id": "eHRMWVCVPok6"
      }
    },
    {
      "cell_type": "code",
      "source": [
        "import pandas as pd\n",
        "\n",
        "# Create a DataFrame\n",
        "data = {'Name': ['Aman', 'Sita', 'Ram', 'Maruti'], 'Score': [97,100, 108, 101]}\n",
        "df = pd.DataFrame(data)\n",
        "\n",
        "# Filter rows where Score > 27\n",
        "filtered_df = df[df['Score'] >= 100]\n",
        "print(f\"Filtered DataFrame:\\n{filtered_df}\")"
      ],
      "metadata": {
        "colab": {
          "base_uri": "https://localhost:8080/"
        },
        "id": "Nxzc_BFU3iJW",
        "outputId": "88448344-387d-4502-bd04-af0efc56ba42"
      },
      "execution_count": null,
      "outputs": [
        {
          "output_type": "stream",
          "name": "stdout",
          "text": [
            "Filtered DataFrame:\n",
            "     Name  Score\n",
            "1    Sita    100\n",
            "2     Ram    108\n",
            "3  Maruti    101\n"
          ]
        }
      ]
    },
    {
      "cell_type": "markdown",
      "source": [
        "# 10. Create a histogram using Seaborn to visualize a distribution?"
      ],
      "metadata": {
        "id": "KmQbH4b-PofA"
      }
    },
    {
      "cell_type": "code",
      "source": [
        "import seaborn as sns\n",
        "import matplotlib.pyplot as plt\n",
        "\n",
        "# Data\n",
        "data = [29, 25, 30, 35, 28, 27]\n",
        "\n",
        "# Create histogram\n",
        "sns.histplot(data, bins=5)\n",
        "plt.title(\"Distribution\")\n",
        "plt.show()"
      ],
      "metadata": {
        "colab": {
          "base_uri": "https://localhost:8080/",
          "height": 452
        },
        "id": "SqhuSQnZ4IVl",
        "outputId": "187d9744-a20b-4e64-f352-272d345f6e7f"
      },
      "execution_count": null,
      "outputs": [
        {
          "output_type": "display_data",
          "data": {
            "text/plain": [
              "<Figure size 640x480 with 1 Axes>"
            ],
            "image/png": "[encoded data removed]"
          },
          "metadata": {}
        }
      ]
    },
    {
      "cell_type": "markdown",
      "source": [
        "# 11. Perform matrix multiplication using NumPy?"
      ],
      "metadata": {
        "id": "xxDngoCpPoX4"
      }
    },
    {
      "cell_type": "code",
      "source": [
        "import numpy as np\n",
        "\n",
        "# Create two matrices\n",
        "matrix1 = np.array([[1, 2], [3, 4]])\n",
        "matrix2 = np.array([[5, 6], [7, 8]])\n",
        "\n",
        "# Matrix multiplication\n",
        "result = np.dot(matrix1, matrix2)\n",
        "print(f\"matrix multiplication result:\\n{result}\")"
      ],
      "metadata": {
        "colab": {
          "base_uri": "https://localhost:8080/"
        },
        "id": "HjsHOXZT4bnb",
        "outputId": "ba8d01a6-c4e5-41aa-97f1-d9b20f08f8e9"
      },
      "execution_count": null,
      "outputs": [
        {
          "output_type": "stream",
          "name": "stdout",
          "text": [
            "matrix multiplication result:\n",
            "[[19 22]\n",
            " [43 50]]\n"
          ]
        }
      ]
    },
    {
      "cell_type": "markdown",
      "source": [
        "# 12. Use Pandas to load a CSV file and display its first 5 rows?"
      ],
      "metadata": {
        "id": "YvOf9AKePoIx"
      }
    },
    {
      "cell_type": "code",
      "source": [
        "#Create file csv format\n",
        "import pandas as pd\n",
        "\n",
        "\n",
        "# Create a DataFrame\n",
        "data = {'Name': ['Sita', 'Ram', 'Lakshman','Maruti', 'Kesari'], 'Score': [97, 108, 101, 107, 111]}\n",
        "df = pd.DataFrame(data)\n",
        "\n",
        "df.to_csv('data.csv', index=False)"
      ],
      "metadata": {
        "id": "1Ysmqkqo6Mub"
      },
      "execution_count": null,
      "outputs": []
    },
    {
      "cell_type": "code",
      "source": [
        "#loading a CSV file\n",
        "import pandas as pd\n",
        "\n",
        "# Load CSV file (assuming 'data.csv' exists with some data)\n",
        "df = pd.read_csv('data.csv')\n",
        "print(f\"first 5 rows:\\n{df.head()}\")"
      ],
      "metadata": {
        "colab": {
          "base_uri": "https://localhost:8080/"
        },
        "id": "if4BeTYl4nCU",
        "outputId": "84ae94ed-9bb5-4036-e2c0-bc8e24878d44"
      },
      "execution_count": null,
      "outputs": [
        {
          "output_type": "stream",
          "name": "stdout",
          "text": [
            "first 5 rows:\n",
            "       Name  Score\n",
            "0      Sita     97\n",
            "1       Ram    108\n",
            "2  Lakshman    101\n",
            "3    Maruti    107\n",
            "4    Kesari    111\n"
          ]
        }
      ]
    },
    {
      "cell_type": "markdown",
      "source": [
        "# 13. Create a 3D scatter plot using Plotly?"
      ],
      "metadata": {
        "id": "1U-AhIs9Ocvn"
      }
    },
    {
      "cell_type": "code",
      "source": [
        "import plotly.express as px\n",
        "import pandas as pd\n",
        "\n",
        "# Data\n",
        "df = pd.DataFrame({\n",
        "    'X': [1, 2, 3, 4],\n",
        "    'Y': [29, 25, 30, 35],\n",
        "    'Z': [10, 20, 15, 45]\n",
        "})\n",
        "\n",
        "# Create 3D scatter plot\n",
        "fig = px.scatter_3d(df, x='X', y='Y', z='Z', title='3D Scatter')\n",
        "fig.show()"
      ],
      "metadata": {
        "colab": {
          "base_uri": "https://localhost:8080/",
          "height": 542
        },
        "id": "HUdTYyvp_xeo",
        "outputId": "1ce4742a-ec4a-4433-ca11-19906f4eb109"
      },
      "execution_count": null,
      "outputs": [
        {
          "output_type": "display_data",
          "data": {
            "text/html": [
              "<html>\n",
              "<head><meta charset=\"utf-8\" /></head>\n",
              "<body>\n",
              "    <div>            <script src=\"https://cdnjs.cloudflare.com/ajax/libs/mathjax/2.7.5/MathJax.js?config=TeX-AMS-MML_SVG\"></script><script type=\"text/javascript\">if (window.MathJax && window.MathJax.Hub && window.MathJax.Hub.Config) {window.MathJax.Hub.Config({SVG: {font: \"STIX-Web\"}});}</script>                <script type=\"text/javascript\">window.PlotlyConfig = {MathJaxConfig: 'local'};</script>\n",
              "        <script charset=\"utf-8\" src=\"https://cdn.plot.ly/plotly-2.35.2.min.js\"></script>                <div id=\"ce365252-e999-45e2-94ba-9f02b5c2bbee\" class=\"plotly-graph-div\" style=\"height:525px; width:100%;\"></div>            <script type=\"text/javascript\">                                    window.PLOTLYENV=window.PLOTLYENV || {};                                    if (document.getElementById(\"ce365252-e999-45e2-94ba-9f02b5c2bbee\")) {                    Plotly.newPlot(                        \"ce365252-e999-45e2-94ba-9f02b5c2bbee\",                        [{\"hovertemplate\":\"X=%{x}\\u003cbr\\u003eY=%{y}\\u003cbr\\u003eZ=%{z}\\u003cextra\\u003e\\u003c\\u002fextra\\u003e\",\"legendgroup\":\"\",\"marker\":{\"color\":\"#636efa\",\"symbol\":\"circle\"},\"mode\":\"markers\",\"name\":\"\",\"scene\":\"scene\",\"showlegend\":false,\"x\":[1,2,3,4],\"y\":[29,25,30,35],\"z\":[10,20,15,45],\"type\":\"scatter3d\"}],                        {\"template\":{\"data\":{\"histogram2dcontour\":[{\"type\":\"histogram2dcontour\",\"colorbar\":{\"outlinewidth\":0,\"ticks\":\"\"},\"colorscale\":[[0.0,\"#0d0887\"],[0.1111111111111111,\"#46039f\"],[0.2222222222222222,\"#7201a8\"],[0.3333333333333333,\"#9c179e\"],[0.4444444444444444,\"#bd3786\"],[0.5555555555555556,\"#d8576b\"],[0.6666666666666666,\"#ed7953\"],[0.7777777777777778,\"#fb9f3a\"],[0.8888888888888888,\"#fdca26\"],[1.0,\"#f0f921\"]]}],\"choropleth\":[{\"type\":\"choropleth\",\"colorbar\":{\"outlinewidth\":0,\"ticks\":\"\"}}],\"histogram2d\":[{\"type\":\"histogram2d\",\"colorbar\":{\"outlinewidth\":0,\"ticks\":\"\"},\"colorscale\":[[0.0,\"#0d0887\"],[0.1111111111111111,\"#46039f\"],[0.2222222222222222,\"#7201a8\"],[0.3333333333333333,\"#9c179e\"],[0.4444444444444444,\"#bd3786\"],[0.5555555555555556,\"#d8576b\"],[0.6666666666666666,\"#ed7953\"],[0.7777777777777778,\"#fb9f3a\"],[0.8888888888888888,\"#fdca26\"],[1.0,\"#f0f921\"]]}],\"heatmap\":[{\"type\":\"heatmap\",\"colorbar\":{\"outlinewidth\":0,\"ticks\":\"\"},\"colorscale\":[[0.0,\"#0d0887\"],[0.1111111111111111,\"#46039f\"],[0.2222222222222222,\"#7201a8\"],[0.3333333333333333,\"#9c179e\"],[0.4444444444444444,\"#bd3786\"],[0.5555555555555556,\"#d8576b\"],[0.6666666666666666,\"#ed7953\"],[0.7777777777777778,\"#fb9f3a\"],[0.8888888888888888,\"#fdca26\"],[1.0,\"#f0f921\"]]}],\"heatmapgl\":[{\"type\":\"heatmapgl\",\"colorbar\":{\"outlinewidth\":0,\"ticks\":\"\"},\"colorscale\":[[0.0,\"#0d0887\"],[0.1111111111111111,\"#46039f\"],[0.2222222222222222,\"#7201a8\"],[0.3333333333333333,\"#9c179e\"],[0.4444444444444444,\"#bd3786\"],[0.5555555555555556,\"#d8576b\"],[0.6666666666666666,\"#ed7953\"],[0.7777777777777778,\"#fb9f3a\"],[0.8888888888888888,\"#fdca26\"],[1.0,\"#f0f921\"]]}],\"contourcarpet\":[{\"type\":\"contourcarpet\",\"colorbar\":{\"outlinewidth\":0,\"ticks\":\"\"}}],\"contour\":[{\"type\":\"contour\",\"colorbar\":{\"outlinewidth\":0,\"ticks\":\"\"},\"colorscale\":[[0.0,\"#0d0887\"],[0.1111111111111111,\"#46039f\"],[0.2222222222222222,\"#7201a8\"],[0.3333333333333333,\"#9c179e\"],[0.4444444444444444,\"#bd3786\"],[0.5555555555555556,\"#d8576b\"],[0.6666666666666666,\"#ed7953\"],[0.7777777777777778,\"#fb9f3a\"],[0.8888888888888888,\"#fdca26\"],[1.0,\"#f0f921\"]]}],\"surface\":[{\"type\":\"surface\",\"colorbar\":{\"outlinewidth\":0,\"ticks\":\"\"},\"colorscale\":[[0.0,\"#0d0887\"],[0.1111111111111111,\"#46039f\"],[0.2222222222222222,\"#7201a8\"],[0.3333333333333333,\"#9c179e\"],[0.4444444444444444,\"#bd3786\"],[0.5555555555555556,\"#d8576b\"],[0.6666666666666666,\"#ed7953\"],[0.7777777777777778,\"#fb9f3a\"],[0.8888888888888888,\"#fdca26\"],[1.0,\"#f0f921\"]]}],\"mesh3d\":[{\"type\":\"mesh3d\",\"colorbar\":{\"outlinewidth\":0,\"ticks\":\"\"}}],\"scatter\":[{\"fillpattern\":{\"fillmode\":\"overlay\",\"size\":10,\"solidity\":0.2},\"type\":\"scatter\"}],\"parcoords\":[{\"type\":\"parcoords\",\"line\":{\"colorbar\":{\"outlinewidth\":0,\"ticks\":\"\"}}}],\"scatterpolargl\":[{\"type\":\"scatterpolargl\",\"marker\":{\"colorbar\":{\"outlinewidth\":0,\"ticks\":\"\"}}}],\"bar\":[{\"error_x\":{\"color\":\"#2a3f5f\"},\"error_y\":{\"color\":\"#2a3f5f\"},\"marker\":{\"line\":{\"color\":\"#E5ECF6\",\"width\":0.5},\"pattern\":{\"fillmode\":\"overlay\",\"size\":10,\"solidity\":0.2}},\"type\":\"bar\"}],\"scattergeo\":[{\"type\":\"scattergeo\",\"marker\":{\"colorbar\":{\"outlinewidth\":0,\"ticks\":\"\"}}}],\"scatterpolar\":[{\"type\":\"scatterpolar\",\"marker\":{\"colorbar\":{\"outlinewidth\":0,\"ticks\":\"\"}}}],\"histogram\":[{\"marker\":{\"pattern\":{\"fillmode\":\"overlay\",\"size\":10,\"solidity\":0.2}},\"type\":\"histogram\"}],\"scattergl\":[{\"type\":\"scattergl\",\"marker\":{\"colorbar\":{\"outlinewidth\":0,\"ticks\":\"\"}}}],\"scatter3d\":[{\"type\":\"scatter3d\",\"line\":{\"colorbar\":{\"outlinewidth\":0,\"ticks\":\"\"}},\"marker\":{\"colorbar\":{\"outlinewidth\":0,\"ticks\":\"\"}}}],\"scattermapbox\":[{\"type\":\"scattermapbox\",\"marker\":{\"colorbar\":{\"outlinewidth\":0,\"ticks\":\"\"}}}],\"scatterternary\":[{\"type\":\"scatterternary\",\"marker\":{\"colorbar\":{\"outlinewidth\":0,\"ticks\":\"\"}}}],\"scattercarpet\":[{\"type\":\"scattercarpet\",\"marker\":{\"colorbar\":{\"outlinewidth\":0,\"ticks\":\"\"}}}],\"carpet\":[{\"aaxis\":{\"endlinecolor\":\"#2a3f5f\",\"gridcolor\":\"white\",\"linecolor\":\"white\",\"minorgridcolor\":\"white\",\"startlinecolor\":\"#2a3f5f\"},\"baxis\":{\"endlinecolor\":\"#2a3f5f\",\"gridcolor\":\"white\",\"linecolor\":\"white\",\"minorgridcolor\":\"white\",\"startlinecolor\":\"#2a3f5f\"},\"type\":\"carpet\"}],\"table\":[{\"cells\":{\"fill\":{\"color\":\"#EBF0F8\"},\"line\":{\"color\":\"white\"}},\"header\":{\"fill\":{\"color\":\"#C8D4E3\"},\"line\":{\"color\":\"white\"}},\"type\":\"table\"}],\"barpolar\":[{\"marker\":{\"line\":{\"color\":\"#E5ECF6\",\"width\":0.5},\"pattern\":{\"fillmode\":\"overlay\",\"size\":10,\"solidity\":0.2}},\"type\":\"barpolar\"}],\"pie\":[{\"automargin\":true,\"type\":\"pie\"}]},\"layout\":{\"autotypenumbers\":\"strict\",\"colorway\":[\"#636efa\",\"#EF553B\",\"#00cc96\",\"#ab63fa\",\"#FFA15A\",\"#19d3f3\",\"#FF6692\",\"#B6E880\",\"#FF97FF\",\"#FECB52\"],\"font\":{\"color\":\"#2a3f5f\"},\"hovermode\":\"closest\",\"hoverlabel\":{\"align\":\"left\"},\"paper_bgcolor\":\"white\",\"plot_bgcolor\":\"#E5ECF6\",\"polar\":{\"bgcolor\":\"#E5ECF6\",\"angularaxis\":{\"gridcolor\":\"white\",\"linecolor\":\"white\",\"ticks\":\"\"},\"radialaxis\":{\"gridcolor\":\"white\",\"linecolor\":\"white\",\"ticks\":\"\"}},\"ternary\":{\"bgcolor\":\"#E5ECF6\",\"aaxis\":{\"gridcolor\":\"white\",\"linecolor\":\"white\",\"ticks\":\"\"},\"baxis\":{\"gridcolor\":\"white\",\"linecolor\":\"white\",\"ticks\":\"\"},\"caxis\":{\"gridcolor\":\"white\",\"linecolor\":\"white\",\"ticks\":\"\"}},\"coloraxis\":{\"colorbar\":{\"outlinewidth\":0,\"ticks\":\"\"}},\"colorscale\":{\"sequential\":[[0.0,\"#0d0887\"],[0.1111111111111111,\"#46039f\"],[0.2222222222222222,\"#7201a8\"],[0.3333333333333333,\"#9c179e\"],[0.4444444444444444,\"#bd3786\"],[0.5555555555555556,\"#d8576b\"],[0.6666666666666666,\"#ed7953\"],[0.7777777777777778,\"#fb9f3a\"],[0.8888888888888888,\"#fdca26\"],[1.0,\"#f0f921\"]],\"sequentialminus\":[[0.0,\"#0d0887\"],[0.1111111111111111,\"#46039f\"],[0.2222222222222222,\"#7201a8\"],[0.3333333333333333,\"#9c179e\"],[0.4444444444444444,\"#bd3786\"],[0.5555555555555556,\"#d8576b\"],[0.6666666666666666,\"#ed7953\"],[0.7777777777777778,\"#fb9f3a\"],[0.8888888888888888,\"#fdca26\"],[1.0,\"#f0f921\"]],\"diverging\":[[0,\"#8e0152\"],[0.1,\"#c51b7d\"],[0.2,\"#de77ae\"],[0.3,\"#f1b6da\"],[0.4,\"#fde0ef\"],[0.5,\"#f7f7f7\"],[0.6,\"#e6f5d0\"],[0.7,\"#b8e186\"],[0.8,\"#7fbc41\"],[0.9,\"#4d9221\"],[1,\"#276419\"]]},\"xaxis\":{\"gridcolor\":\"white\",\"linecolor\":\"white\",\"ticks\":\"\",\"title\":{\"standoff\":15},\"zerolinecolor\":\"white\",\"automargin\":true,\"zerolinewidth\":2},\"yaxis\":{\"gridcolor\":\"white\",\"linecolor\":\"white\",\"ticks\":\"\",\"title\":{\"standoff\":15},\"zerolinecolor\":\"white\",\"automargin\":true,\"zerolinewidth\":2},\"scene\":{\"xaxis\":{\"backgroundcolor\":\"#E5ECF6\",\"gridcolor\":\"white\",\"linecolor\":\"white\",\"showbackground\":true,\"ticks\":\"\",\"zerolinecolor\":\"white\",\"gridwidth\":2},\"yaxis\":{\"backgroundcolor\":\"#E5ECF6\",\"gridcolor\":\"white\",\"linecolor\":\"white\",\"showbackground\":true,\"ticks\":\"\",\"zerolinecolor\":\"white\",\"gridwidth\":2},\"zaxis\":{\"backgroundcolor\":\"#E5ECF6\",\"gridcolor\":\"white\",\"linecolor\":\"white\",\"showbackground\":true,\"ticks\":\"\",\"zerolinecolor\":\"white\",\"gridwidth\":2}},\"shapedefaults\":{\"line\":{\"color\":\"#2a3f5f\"}},\"annotationdefaults\":{\"arrowcolor\":\"#2a3f5f\",\"arrowhead\":0,\"arrowwidth\":1},\"geo\":{\"bgcolor\":\"white\",\"landcolor\":\"#E5ECF6\",\"subunitcolor\":\"white\",\"showland\":true,\"showlakes\":true,\"lakecolor\":\"white\"},\"title\":{\"x\":0.05},\"mapbox\":{\"style\":\"light\"}}},\"scene\":{\"domain\":{\"x\":[0.0,1.0],\"y\":[0.0,1.0]},\"xaxis\":{\"title\":{\"text\":\"X\"}},\"yaxis\":{\"title\":{\"text\":\"Y\"}},\"zaxis\":{\"title\":{\"text\":\"Z\"}}},\"legend\":{\"tracegroupgap\":0},\"title\":{\"text\":\"3D Scatter\"}},                        {\"responsive\": true}                    ).then(function(){\n",
              "                            \n",
              "var gd = document.getElementById('ce365252-e999-45e2-94ba-9f02b5c2bbee');\n",
              "var x = new MutationObserver(function (mutations, observer) {{\n",
              "        var display = window.getComputedStyle(gd).display;\n",
              "        if (!display || display === 'none') {{\n",
              "            console.log([gd, 'removed!']);\n",
              "            Plotly.purge(gd);\n",
              "            observer.disconnect();\n",
              "        }}\n",
              "}});\n",
              "\n",
              "// Listen for the removal of the full notebook cells\n",
              "var notebookContainer = gd.closest('#notebook-container');\n",
              "if (notebookContainer) {{\n",
              "    x.observe(notebookContainer, {childList: true});\n",
              "}}\n",
              "\n",
              "// Listen for the clearing of the current output cell\n",
              "var outputEl = gd.closest('.output');\n",
              "if (outputEl) {{\n",
              "    x.observe(outputEl, {childList: true});\n",
              "}}\n",
              "\n",
              "                        })                };                            </script>        </div>\n",
              "</body>\n",
              "</html>"
            ]
          },
          "metadata": {}
        }
      ]
    }
  ]
}